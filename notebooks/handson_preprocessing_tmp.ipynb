{
 "cells": [
  {
   "cell_type": "markdown",
   "metadata": {},
   "source": [
    "# Hands-on 1: How to create a fMRI preprocessing workflow\n",
    "\n",
    "The purpose of this section is that you set-up a complete fMRI analysis workflow yourself. So that in the end, you are able to perform the analysis from A-Z, i.e. from preprocessing to group analysis. This section will cover the preprocessing part, and the section [Hands-on 2: Analysis](handson_analysis.ipynb) will handle the analysis part.\n",
    "\n",
    "We will use this opportunity to show you some nice additional interfaces/nodes that might not be relevant to your usual analysis. But it's always nice to know that they exist. And hopefully, this will encourage you to investigate all other interfaces that Nipype can bring to the tip of your finger."
   ]
  },
  {
   "cell_type": "markdown",
   "metadata": {},
   "source": [
    "## Preparation\n",
    "\n",
    "Before we can start with anything we first need to download the data. For this hands-on, we will only use the right-handed subjects 2-4 and 7-9. This can be done very quickly with the following `datalad` command.\n",
    "\n",
    "**Note:** This might take a while, as datalad needs to download ~200MB of data"
   ]
  },
  {
   "cell_type": "code",
   "execution_count": 1,
   "metadata": {},
   "outputs": [
    {
     "name": "stdout",
     "output_type": "stream",
     "text": [
      "action summary:\n",
      "  get (notneeded: 12)\n"
     ]
    }
   ],
   "source": [
    "%%bash\n",
    "datalad get -J 4 -d /data/ds000114 \\\n",
    "    /data/ds000114/sub-0[234789]/ses-test/anat/sub-0[234789]_ses-test_T1w.nii.gz \\\n",
    "    /data/ds000114/sub-0[234789]/ses-test/func/*fingerfootlips*"
   ]
  },
  {
   "cell_type": "markdown",
   "metadata": {},
   "source": [
    "# Preprocessing Workflow Structure\n",
    "\n",
    "So let's get our hands dirty. First things first, it's always good to know which interfaces you want to use in your workflow and in which order you want to execute them. For the preprocessing workflow, I recommend that we use the following nodes:\n",
    "\n",
    "     1. Gunzip (Nipype)\n",
    "     2. Drop Dummy Scans (FSL)\n",
    "     3. Slice Time Correction (SPM)\n",
    "     4. Motion Correction (SPM)\n",
    "     5. Artifact Detection\n",
    "     6. Segmentation (SPM)\n",
    "     7. Coregistration (FSL)\n",
    "     8. Smoothing (FSL)\n",
    "     9. Apply Binary Mask (FSL)\n",
    "    10. Remove Linear Trends (Nipype)\n",
    "    \n",
    "**Note:** This workflow might be overkill concerning data manipulation, but it hopefully serves as a good Nipype exercise."
   ]
  },
  {
   "cell_type": "markdown",
   "metadata": {},
   "source": [
    "## Imports\n",
    "\n",
    "It's always best to have all relevant module imports at the beginning of your script. So let's import what we most certainly need."
   ]
  },
  {
   "cell_type": "code",
   "execution_count": 2,
   "metadata": {},
   "outputs": [
    {
     "name": "stdout",
     "output_type": "stream",
     "text": [
      "200323-19:45:46,920 nipype.utils INFO:\n",
      "\t Running nipype version 1.5.0-dev (latest: 1.4.2)\n"
     ]
    }
   ],
   "source": [
    "from nilearn import plotting\n",
    "%matplotlib inline\n",
    "\n",
    "# Get the Node and Workflow object\n",
    "from nipype import Node, Workflow\n",
    "\n",
    "# Specify which SPM to use\n",
    "from nipype.interfaces.matlab import MatlabCommand\n",
    "MatlabCommand.set_default_paths('/opt/spm12-r7219/spm12_mcr/spm12')"
   ]
  },
  {
   "cell_type": "markdown",
   "metadata": {},
   "source": [
    "**Note:** Ideally you would also put the imports of all the interfaces that you use here at the top. But as we will develop the workflow step by step, we can also import the relevant modules as we go."
   ]
  },
  {
   "cell_type": "markdown",
   "metadata": {},
   "source": [
    "## Create Nodes and Workflow connections\n",
    "\n",
    "Let's create all the nodes that we need! Make sure to specify all relevant inputs and keep in mind which ones you later on need to connect in your pipeline.\n",
    "\n",
    "### Workflow\n",
    "\n",
    "We recommend to create the workflow and establish all its connections at a later place in your script. This helps to have everything nicely together. But for this hands-on example, it makes sense to establish the connections between the nodes as we go.\n",
    "\n",
    "And for this, we first need to create a workflow:"
   ]
  },
  {
   "cell_type": "code",
   "execution_count": 3,
   "metadata": {
    "solution2": "shown",
    "solution2_first": true
   },
   "outputs": [],
   "source": [
    "# Create the workflow here\n",
    "# Hint: use 'base_dir' to specify where to store the working directory"
   ]
  },
  {
   "cell_type": "code",
   "execution_count": 4,
   "metadata": {
    "solution2": "shown"
   },
   "outputs": [],
   "source": [
    "preproc = Workflow(name='work_preproc', base_dir='/output/')"
   ]
  },
  {
   "cell_type": "markdown",
   "metadata": {},
   "source": [
    "### Gunzip\n",
    "\n",
    "I've already created the `Gunzip` node as a template for the other nodes. Also, we've specified an `in_file` here so that we can directly test the nodes without worrying about the Input/Output data stream to the workflow. This will be taken care of in a later section."
   ]
  },
  {
   "cell_type": "code",
   "execution_count": 5,
   "metadata": {},
   "outputs": [],
   "source": [
    "from nipype.algorithms.misc import Gunzip"
   ]
  },
  {
   "cell_type": "code",
   "execution_count": 6,
   "metadata": {},
   "outputs": [],
   "source": [
    "# Specify example input file\n",
    "func_file = '/data/ds000114/sub-07/ses-test/func/sub-07_ses-test_task-fingerfootlips_bold.nii.gz'\n",
    "\n",
    "# Initiate Gunzip node\n",
    "gunzip_func = Node(Gunzip(in_file=func_file), name='gunzip_func')"
   ]
  },
  {
   "cell_type": "markdown",
   "metadata": {},
   "source": [
    "### Drop Dummy Scans\n",
    "\n",
    "The functional images of this dataset were recorded with 4 dummy scans at the beginning (see the [corresponding publication](https://www.ncbi.nlm.nih.gov/pmc/articles/PMC3641991/)). But those dummy scans were not yet taken out from the functional images.\n",
    "\n",
    "To better illustrate this, let's plot the time course of a random voxel of the just defined `func_file`:"
   ]
  },
  {
   "cell_type": "code",
   "execution_count": 7,
   "metadata": {},
   "outputs": [
    {
     "data": {
      "image/png": "[encoded data removed]",
      "text/plain": [
       "<Figure size 432x288 with 1 Axes>"
      ]
     },
     "metadata": {
      "needs_background": "light"
     },
     "output_type": "display_data"
    }
   ],
   "source": [
    "import nibabel as nb\n",
    "%matplotlib inline\n",
    "import matplotlib.pyplot as plt\n",
    "plt.plot(nb.load(func_file).get_fdata()[32, 32, 15, :]);"
   ]
  },
  {
   "cell_type": "markdown",
   "metadata": {},
   "source": [
    "In the figure above, we see that at the very beginning there are extreme values, which hint to the fact that steady state wasn't reached yet. Therefore, we want to exclude the dummy scans from the original data. This can be achieved with FSL's `ExtractROI`."
   ]
  },
  {
   "cell_type": "code",
   "execution_count": 8,
   "metadata": {},
   "outputs": [],
   "source": [
    "from nipype.interfaces.fsl import ExtractROI"
   ]
  },
  {
   "cell_type": "code",
   "execution_count": 9,
   "metadata": {},
   "outputs": [],
   "source": [
    "extract = Node(ExtractROI(t_min=4, t_size=-1, output_type='NIFTI'),\n",
    "               name=\"extract\")"
   ]
  },
  {
   "cell_type": "markdown",
   "metadata": {},
   "source": [
    "This `ExtractROI` node can now be connected to the `gunzip_func` node from above. To do this, we use the following command:"
   ]
  },
  {
   "cell_type": "code",
   "execution_count": 10,
   "metadata": {},
   "outputs": [],
   "source": [
    "preproc.connect([(gunzip_func, extract, [('out_file', 'in_file')])])"
   ]
  },
  {
   "cell_type": "markdown",
   "metadata": {},
   "source": [
    "### Slice Time Correction\n",
    "\n",
    "Now to the next step. Let's us SPM's `SliceTiming` to correct for slice wise acquisition of the volumes. As a reminder, the tutorial dataset was recorded...\n",
    "- with a time repetition (TR) of 2.5 seconds\n",
    "- with 30 slices per volume\n",
    "- in an interleaved fashion, i.e. slice order is [1, 3, 5, 7, ..., 2, 4, 6, ..., 30]\n",
    "- with a time acquisition (TA) of 2.4167 seconds, i.e. `TR-(TR/num_slices)`"
   ]
  },
  {
   "cell_type": "code",
   "execution_count": 11,
   "metadata": {},
   "outputs": [],
   "source": [
    "from nipype.interfaces.spm import SliceTiming"
   ]
  },
  {
   "cell_type": "code",
   "execution_count": 12,
   "metadata": {},
   "outputs": [
    {
     "name": "stdout",
     "output_type": "stream",
     "text": [
      "[1, 3, 5, 7, 9, 11, 13, 15, 17, 19, 21, 23, 25, 27, 29, 2, 4, 6, 8, 10, 12, 14, 16, 18, 20, 22, 24, 26, 28, 30]\n"
     ]
    }
   ],
   "source": [
    "slice_order = list(range(1, 31, 2)) + list(range(2, 31, 2))\n",
    "print(slice_order)"
   ]
  },
  {
   "cell_type": "code",
   "execution_count": 13,
   "metadata": {
    "solution2": "shown",
    "solution2_first": true
   },
   "outputs": [],
   "source": [
    "# Initiate SliceTiming node here"
   ]
  },
  {
   "cell_type": "code",
   "execution_count": 14,
   "metadata": {
    "solution2": "shown"
   },
   "outputs": [],
   "source": [
    "slicetime = Node(SliceTiming(num_slices=30,\n",
    "                             ref_slice=15,\n",
    "                             slice_order=slice_order,\n",
    "                             time_repetition=2.5,\n",
    "                             time_acquisition=2.5-(2.5/30)),\n",
    "                 name='slicetime')"
   ]
  },
  {
   "cell_type": "markdown",
   "metadata": {},
   "source": [
    "Now the next step is to connect the `SliceTiming` node to the rest of the workflow, i.e. the `ExtractROI` node."
   ]
  },
  {
   "cell_type": "code",
   "execution_count": 15,
   "metadata": {
    "solution2": "shown",
    "solution2_first": true
   },
   "outputs": [],
   "source": [
    "# Connect SliceTiming node to the other nodes here"
   ]
  },
  {
   "cell_type": "code",
   "execution_count": 16,
   "metadata": {
    "solution2": "shown"
   },
   "outputs": [],
   "source": [
    "preproc.connect([(extract, slicetime, [('roi_file', 'in_files')])])"
   ]
  },
  {
   "cell_type": "markdown",
   "metadata": {},
   "source": [
    "### Motion Correction\n",
    "\n",
    "To correct for motion in the scanner, we will be using FSL's `MCFLIRT`."
   ]
  },
  {
   "cell_type": "code",
   "execution_count": 17,
   "metadata": {},
   "outputs": [],
   "source": [
    "from nipype.interfaces.fsl import MCFLIRT"
   ]
  },
  {
   "cell_type": "code",
   "execution_count": 18,
   "metadata": {
    "solution2": "shown",
    "solution2_first": true
   },
   "outputs": [],
   "source": [
    "# Initate MCFLIRT node here"
   ]
  },
  {
   "cell_type": "code",
   "execution_count": 19,
   "metadata": {
    "solution2": "shown"
   },
   "outputs": [],
   "source": [
    "mcflirt = Node(MCFLIRT(mean_vol=True,\n",
    "                       save_plots=True),\n",
    "               name=\"mcflirt\")"
   ]
  },
  {
   "cell_type": "markdown",
   "metadata": {},
   "source": [
    "Connect the `MCFLIRT` node to the rest of the workflow."
   ]
  },
  {
   "cell_type": "code",
   "execution_count": 20,
   "metadata": {
    "solution2": "shown",
    "solution2_first": true
   },
   "outputs": [],
   "source": [
    "# Connect MCFLIRT node to the other nodes here"
   ]
  },
  {
   "cell_type": "code",
   "execution_count": 21,
   "metadata": {
    "solution2": "shown"
   },
   "outputs": [],
   "source": [
    "preproc.connect([(slicetime, mcflirt, [('timecorrected_files', 'in_file')])])"
   ]
  },
  {
   "cell_type": "markdown",
   "metadata": {},
   "source": [
    "### Artifact Detection\n",
    "\n",
    "We will use the really cool and useful `ArtifactDetection` tool from Nipype to detect motion and intensity outliers in the functional images. The interface is initiated as follows:"
   ]
  },
  {
   "cell_type": "code",
   "execution_count": 22,
   "metadata": {},
   "outputs": [],
   "source": [
    "from nipype.algorithms.rapidart import ArtifactDetect"
   ]
  },
  {
   "cell_type": "code",
   "execution_count": 23,
   "metadata": {},
   "outputs": [],
   "source": [
    "art = Node(ArtifactDetect(norm_threshold=2,\n",
    "                          zintensity_threshold=3,\n",
    "                          mask_type='spm_global',\n",
    "                          parameter_source='FSL',\n",
    "                          use_differences=[True, False],\n",
    "                          plot_type='svg'),\n",
    "           name=\"art\")"
   ]
  },
  {
   "cell_type": "markdown",
   "metadata": {},
   "source": [
    "The parameters above mean the following:\n",
    "- `norm_threshold` - Threshold to use to detect motion-related outliers when composite motion is being used\n",
    "- `zintensity_threshold` - Intensity Z-threshold use to detection images that deviate from the mean\n",
    "- `mask_type` - Type of mask that should be used to mask the functional data. *spm_global* uses an spm_global like calculation to determine the brain mask\n",
    "- `parameter_source` - Source of movement parameters\n",
    "- `use_differences` - If you want to use differences between successive motion (first element) and intensity parameter (second element) estimates in order to determine outliers"
   ]
  },
  {
   "cell_type": "markdown",
   "metadata": {},
   "source": [
    "And this is how you connect this node to the rest of the workflow:"
   ]
  },
  {
   "cell_type": "code",
   "execution_count": 24,
   "metadata": {},
   "outputs": [],
   "source": [
    "preproc.connect([(mcflirt, art, [('out_file', 'realigned_files'),\n",
    "                                 ('par_file', 'realignment_parameters')])\n",
    "                 ])"
   ]
  },
  {
   "cell_type": "markdown",
   "metadata": {},
   "source": [
    "### Segmentation of anatomical image\n",
    "\n",
    "Now let's work on the anatomical image. In particular, let's use SPM's `NewSegment` to create probability maps for the gray matter, white matter tissue and CSF."
   ]
  },
  {
   "cell_type": "code",
   "execution_count": 25,
   "metadata": {},
   "outputs": [],
   "source": [
    "from nipype.interfaces.spm import NewSegment"
   ]
  },
  {
   "cell_type": "code",
   "execution_count": 26,
   "metadata": {},
   "outputs": [],
   "source": [
    "# Use the following tissue specification to get a GM and WM probability map\n",
    "tpm_img ='/opt/spm12-r7219/spm12_mcr/spm12/tpm/TPM.nii'\n",
    "tissue1 = ((tpm_img, 1), 1, (True,False), (False, False))\n",
    "tissue2 = ((tpm_img, 2), 1, (True,False), (False, False))\n",
    "tissue3 = ((tpm_img, 3), 2, (True,False), (False, False))\n",
    "tissue4 = ((tpm_img, 4), 3, (False,False), (False, False))\n",
    "tissue5 = ((tpm_img, 5), 4, (False,False), (False, False))\n",
    "tissue6 = ((tpm_img, 6), 2, (False,False), (False, False))\n",
    "tissues = [tissue1, tissue2, tissue3, tissue4, tissue5, tissue6]"
   ]
  },
  {
   "cell_type": "code",
   "execution_count": 27,
   "metadata": {
    "solution2": "shown",
    "solution2_first": true
   },
   "outputs": [],
   "source": [
    "# Initiate NewSegment node here"
   ]
  },
  {
   "cell_type": "code",
   "execution_count": 28,
   "metadata": {
    "solution2": "shown"
   },
   "outputs": [],
   "source": [
    "segment = Node(NewSegment(tissues=tissues), name='segment')"
   ]
  },
  {
   "cell_type": "markdown",
   "metadata": {},
   "source": [
    "We will again be using a `Gunzip` node to unzip the anatomical image that we then want to use as input to the segmentation node. We again also need to specify the anatomical image that we want to use in this case. As before, this will later also be handled directly by the Input/Output stream."
   ]
  },
  {
   "cell_type": "code",
   "execution_count": 29,
   "metadata": {},
   "outputs": [],
   "source": [
    "# Specify example input file\n",
    "anat_file = '/data/ds000114/sub-07/ses-test/anat/sub-07_ses-test_T1w.nii.gz'\n",
    "\n",
    "# Initiate Gunzip node\n",
    "gunzip_anat = Node(Gunzip(in_file=anat_file), name='gunzip_anat')"
   ]
  },
  {
   "cell_type": "markdown",
   "metadata": {},
   "source": [
    "Now we can connect the `NewSegment` node to the rest of the workflow."
   ]
  },
  {
   "cell_type": "code",
   "execution_count": 30,
   "metadata": {
    "solution2": "shown",
    "solution2_first": true
   },
   "outputs": [],
   "source": [
    "# Connect NewSegment node to the other nodes here"
   ]
  },
  {
   "cell_type": "code",
   "execution_count": 31,
   "metadata": {
    "solution2": "shown"
   },
   "outputs": [],
   "source": [
    "preproc.connect([(gunzip_anat, segment, [('out_file', 'channel_files')])])"
   ]
  },
  {
   "cell_type": "markdown",
   "metadata": {},
   "source": [
    "### Compute Coregistration Matrix\n",
    "\n",
    "As a next step, we will make sure that the functional images are coregistered to the anatomical image. For this, we will use FSL's `FLIRT` function. As we just created a white matter probability map, we can use this together with the Boundary-Based Registration (BBR) cost function to optimize the image coregistration. As some helpful notes...\n",
    "- use a degree of freedom of 6\n",
    "- specify the cost function as `bbr`\n",
    "- use the `schedule='/usr/share/fsl/5.0/etc/flirtsch/bbr.sch'`"
   ]
  },
  {
   "cell_type": "code",
   "execution_count": 32,
   "metadata": {},
   "outputs": [],
   "source": [
    "from nipype.interfaces.fsl import FLIRT"
   ]
  },
  {
   "cell_type": "code",
   "execution_count": 33,
   "metadata": {
    "solution2": "shown",
    "solution2_first": true
   },
   "outputs": [],
   "source": [
    "# Initiate FLIRT node here"
   ]
  },
  {
   "cell_type": "code",
   "execution_count": 34,
   "metadata": {
    "solution2": "shown"
   },
   "outputs": [],
   "source": [
    "coreg = Node(FLIRT(dof=6,\n",
    "                   cost='bbr',\n",
    "                   schedule='/usr/share/fsl/5.0/etc/flirtsch/bbr.sch',\n",
    "                   output_type='NIFTI'),\n",
    "             name=\"coreg\")"
   ]
  },
  {
   "cell_type": "code",
   "execution_count": 35,
   "metadata": {
    "solution2": "shown",
    "solution2_first": true
   },
   "outputs": [],
   "source": [
    "# Connect FLIRT node to the other nodes here"
   ]
  },
  {
   "cell_type": "code",
   "execution_count": 36,
   "metadata": {
    "solution2": "shown"
   },
   "outputs": [],
   "source": [
    "preproc.connect([(gunzip_anat, coreg, [('out_file', 'reference')]),\n",
    "                 (mcflirt, coreg, [('mean_img', 'in_file')])\n",
    "                 ])"
   ]
  },
  {
   "cell_type": "markdown",
   "metadata": {},
   "source": [
    "As mentioned above, the `bbr` routine can use the subject-specific white matter probability map to guide the coregistration. But for this, we need to create a binary mask out of the WM probability map. This can easily be done by FSL's `Threshold` interface."
   ]
  },
  {
   "cell_type": "code",
   "execution_count": 37,
   "metadata": {},
   "outputs": [],
   "source": [
    "from nipype.interfaces.fsl import Threshold\n",
    "\n",
    "# Threshold - Threshold WM probability image\n",
    "threshold_WM = Node(Threshold(thresh=0.5,\n",
    "                              args='-bin',\n",
    "                              output_type='NIFTI'),\n",
    "                name=\"threshold_WM\")"
   ]
  },
  {
   "cell_type": "markdown",
   "metadata": {},
   "source": [
    "Now, to select the WM probability map that the `NewSegment` node created, we need some helper function. Because the output field `partial_volume_files` form the segmentation node, will give us a list of files, i.e. `[[GM_prob], [WM_prob], [], [], [], []]`. Therefore, using the following function, we can select only the last element of this list."
   ]
  },
  {
   "cell_type": "code",
   "execution_count": 38,
   "metadata": {},
   "outputs": [],
   "source": [
    "# Select WM segmentation file from segmentation output\n",
    "def get_wm(files):\n",
    "    return files[1][0]\n",
    "\n",
    "# Connecting the segmentation node with the threshold node\n",
    "preproc.connect([(segment, threshold_WM, [(('native_class_images', get_wm),\n",
    "                                           'in_file')])])"
   ]
  },
  {
   "cell_type": "markdown",
   "metadata": {},
   "source": [
    "Now we can just connect this `Threshold` node to the coregistration node from above."
   ]
  },
  {
   "cell_type": "code",
   "execution_count": 39,
   "metadata": {
    "solution2": "shown",
    "solution2_first": true
   },
   "outputs": [],
   "source": [
    "# Connect Threshold node to coregistration node above here"
   ]
  },
  {
   "cell_type": "code",
   "execution_count": 40,
   "metadata": {
    "solution2": "shown"
   },
   "outputs": [],
   "source": [
    "preproc.connect([(threshold_WM, coreg, [('out_file', 'wm_seg')])])"
   ]
  },
  {
   "cell_type": "markdown",
   "metadata": {},
   "source": [
    "### Apply Coregistration Matrix to functional image\n",
    "\n",
    "Now that we know the coregistration matrix to correctly overlay the functional mean image on the subject-specific anatomy, we need to apply to coregistration to the whole time series. This can be achieved with FSL's `FLIRT` as follows:"
   ]
  },
  {
   "cell_type": "code",
   "execution_count": 41,
   "metadata": {},
   "outputs": [],
   "source": [
    "# Specify the isometric voxel resolution you want after coregistration\n",
    "desired_voxel_iso = 4\n",
    "\n",
    "# Apply coregistration warp to functional images\n",
    "applywarp = Node(FLIRT(interp='spline',\n",
    "                       apply_isoxfm=desired_voxel_iso,\n",
    "                       output_type='NIFTI'),\n",
    "                 name=\"applywarp\")"
   ]
  },
  {
   "cell_type": "markdown",
   "metadata": {},
   "source": [
    "**<span style=\"color:red\">Important</span>**: As you can see above, we also specified a variable `desired_voxel_iso`. This is very important at this stage, otherwise `FLIRT` will transform your functional images to a resolution of the anatomical image, which will dramatically increase the file size (e.g. to 1-10GB per file). If you don't want to change the voxel resolution, use the additional parameter `no_resample=True`. Important, for this to work, you still need to define `apply_isoxfm`."
   ]
  },
  {
   "cell_type": "code",
   "execution_count": 42,
   "metadata": {},
   "outputs": [],
   "source": [
    "# Connecting the ApplyWarp node to all the other nodes\n",
    "preproc.connect([(mcflirt, applywarp, [('out_file', 'in_file')]),\n",
    "                 (coreg, applywarp, [('out_matrix_file', 'in_matrix_file')]),\n",
    "                 (gunzip_anat, applywarp, [('out_file', 'reference')])\n",
    "                 ])"
   ]
  },
  {
   "cell_type": "markdown",
   "metadata": {},
   "source": [
    "### Smoothing\n",
    "\n",
    "Next step is image smoothing. The most simple way to do this is to use FSL's or SPM's `Smooth` function. But for learning purposes, let's use FSL's `SUSAN` workflow as it is implemented in Nipype. Note that this time, we are importing a workflow instead of an interface."
   ]
  },
  {
   "cell_type": "code",
   "execution_count": 43,
   "metadata": {},
   "outputs": [
    {
     "name": "stdout",
     "output_type": "stream",
     "text": [
      "200323-19:45:53,471 nipype.interface INFO:\n",
      "\t We advise you to upgrade DIPY version. This upgrade will open access to more function\n",
      "200323-19:45:53,477 nipype.interface INFO:\n",
      "\t We advise you to upgrade DIPY version. This upgrade will open access to more function\n",
      "200323-19:45:53,481 nipype.interface INFO:\n",
      "\t We advise you to upgrade DIPY version. This upgrade will open access to more models\n"
     ]
    },
    {
     "name": "stderr",
     "output_type": "stream",
     "text": [
      "/opt/miniconda-latest/envs/neuro/lib/python3.7/site-packages/niflow/nipype1/workflows/dmri/mrtrix/group_connectivity.py:16: UserWarning: cmp not installed\n",
      "  warnings.warn('cmp not installed')\n",
      "/opt/miniconda-latest/envs/neuro/lib/python3.7/site-packages/nipype/workflows/__init__.py:28: UserWarning: Nipype 1 workflows have been moved to the niflow-nipype1-workflows package. nipype.workflows.* provides a reference for backwards compatibility. Please use niflow.nipype1.workflows.* to avoid this warning.\n",
      "  warnings.warn(\" \".join(_msg))\n"
     ]
    }
   ],
   "source": [
    "from nipype.workflows.fmri.fsl.preprocess import create_susan_smooth"
   ]
  },
  {
   "cell_type": "markdown",
   "metadata": {},
   "source": [
    "If you type `create_susan_smooth?` you can see how to specify the input variables to the susan workflow. In particular, they are...\n",
    "- `fwhm`: set this value to 4 (or whichever value you want)\n",
    "- `mask_file`: will be created in a later step\n",
    "- `in_file`: will be handled while connection to other nodes in the preproc workflow"
   ]
  },
  {
   "cell_type": "code",
   "execution_count": 44,
   "metadata": {
    "solution2": "shown",
    "solution2_first": true
   },
   "outputs": [],
   "source": [
    "# Initiate SUSAN workflow here"
   ]
  },
  {
   "cell_type": "code",
   "execution_count": 45,
   "metadata": {
    "solution2": "shown"
   },
   "outputs": [],
   "source": [
    "susan = create_susan_smooth(name='susan')\n",
    "susan.inputs.inputnode.fwhm = 4"
   ]
  },
  {
   "cell_type": "code",
   "execution_count": 46,
   "metadata": {
    "solution2": "shown",
    "solution2_first": true
   },
   "outputs": [],
   "source": [
    "# Connect Threshold node to coregistration node above here"
   ]
  },
  {
   "cell_type": "code",
   "execution_count": 47,
   "metadata": {
    "solution2": "shown"
   },
   "outputs": [],
   "source": [
    "preproc.connect([(applywarp, susan, [('out_file', 'inputnode.in_files')])])"
   ]
  },
  {
   "cell_type": "markdown",
   "metadata": {},
   "source": [
    "### Create Binary Mask\n",
    "\n",
    "There are many possible approaches on how you can mask your functional images. One of them is not at all, one is with a simple brain mask and one that only considers certain kind of brain tissue, e.g. gray matter.\n",
    "\n",
    "For the current example, we want to create a dilated gray matter mask. For this purpose we need to:\n",
    "1. Resample the gray matter probability map to the same resolution as the functional images\n",
    "2. Threshold this resampled probability map at a specific value\n",
    "3. Dilate this mask by some voxels to make the mask less conservative and more inclusive\n",
    "\n",
    "The first step can be done in many ways (eg. using freesurfer's `mri_convert`, `nibabel`) but in our case, we will use FSL's `FLIRT`. The trick is to use the probability mask, as input file and a reference file."
   ]
  },
  {
   "cell_type": "code",
   "execution_count": 48,
   "metadata": {},
   "outputs": [],
   "source": [
    "from nipype.interfaces.fsl import FLIRT\n",
    "\n",
    "# Initiate resample node\n",
    "resample = Node(FLIRT(apply_isoxfm=desired_voxel_iso,\n",
    "                      output_type='NIFTI'),\n",
    "                name=\"resample\")"
   ]
  },
  {
   "cell_type": "markdown",
   "metadata": {},
   "source": [
    "The second and third step can luckily be done with just one node. We can take almost the same `Threshold` node as above. We just need to add another additional argument: `-dilF` - which applies a maximum filtering of all voxels."
   ]
  },
  {
   "cell_type": "code",
   "execution_count": 49,
   "metadata": {},
   "outputs": [],
   "source": [
    "from nipype.interfaces.fsl import Threshold\n",
    "\n",
    "# Threshold - Threshold GM probability image\n",
    "mask_GM = Node(Threshold(thresh=0.5,\n",
    "                         args='-bin -dilF',\n",
    "                         output_type='NIFTI'),\n",
    "                name=\"mask_GM\")\n",
    "\n",
    "# Select GM segmentation file from segmentation output\n",
    "def get_gm(files):\n",
    "    return files[0][0]"
   ]
  },
  {
   "cell_type": "markdown",
   "metadata": {},
   "source": [
    "Now we can connect the resample and the gray matter mask node to the segmentation node and each other."
   ]
  },
  {
   "cell_type": "code",
   "execution_count": 50,
   "metadata": {},
   "outputs": [],
   "source": [
    "preproc.connect([(segment, resample, [(('native_class_images', get_gm), 'in_file'),\n",
    "                                      (('native_class_images', get_gm), 'reference')\n",
    "                                      ]),\n",
    "                 (resample, mask_GM, [('out_file', 'in_file')])\n",
    "                 ])"
   ]
  },
  {
   "cell_type": "markdown",
   "metadata": {},
   "source": [
    "This should do the trick."
   ]
  },
  {
   "cell_type": "markdown",
   "metadata": {},
   "source": [
    "### Apply the binary mask\n",
    "\n",
    "Now we can connect this dilated gray matter mask to the susan node, as well as actually applying this to the resulting smoothed images."
   ]
  },
  {
   "cell_type": "code",
   "execution_count": 51,
   "metadata": {
    "solution2": "shown",
    "solution2_first": true
   },
   "outputs": [],
   "source": [
    "# Connect gray matter Mask node to the susan workflow here"
   ]
  },
  {
   "cell_type": "code",
   "execution_count": 52,
   "metadata": {
    "solution2": "shown"
   },
   "outputs": [],
   "source": [
    "preproc.connect([(mask_GM, susan, [('out_file', 'inputnode.mask_file')])])"
   ]
  },
  {
   "cell_type": "markdown",
   "metadata": {},
   "source": [
    "To apply the mask to the smoothed functional images, we will use FSL's `ApplyMask` interface."
   ]
  },
  {
   "cell_type": "code",
   "execution_count": 53,
   "metadata": {},
   "outputs": [],
   "source": [
    "from nipype.interfaces.fsl import ApplyMask"
   ]
  },
  {
   "cell_type": "markdown",
   "metadata": {},
   "source": [
    "**Important:** The susan workflow gives out a list of files, i.e. `[smoothed_func.nii]` instead of just the filename directly. If we would use a normal `Node` for `ApplyMask` this would lead to the following error:\n",
    "\n",
    "    TraitError: The 'in_file' trait of an ApplyMaskInput instance must be an existing file name, but a value of ['/output/work_preproc/susan/smooth/mapflow/_smooth0/asub-07_ses-test_task-fingerfootlips_bold_mcf_flirt_smooth.nii.gz'] <class 'list'> was specified.\n",
    "\n",
    "\n",
    "To prevent this we will be using a `MapNode` and specify the `in_file` as it's iterfield. Like this, the node is capable to handle a list of inputs as it will know that it has to apply itself iteratively to the list of inputs."
   ]
  },
  {
   "cell_type": "code",
   "execution_count": 54,
   "metadata": {},
   "outputs": [],
   "source": [
    "from nipype import MapNode"
   ]
  },
  {
   "cell_type": "code",
   "execution_count": 55,
   "metadata": {
    "solution2": "shown",
    "solution2_first": true
   },
   "outputs": [],
   "source": [
    "# Initiate ApplyMask node here"
   ]
  },
  {
   "cell_type": "code",
   "execution_count": 56,
   "metadata": {
    "solution2": "shown"
   },
   "outputs": [],
   "source": [
    "mask_func = MapNode(ApplyMask(output_type='NIFTI'),\n",
    "                    name=\"mask_func\", \n",
    "                    iterfield=[\"in_file\"])"
   ]
  },
  {
   "cell_type": "code",
   "execution_count": 57,
   "metadata": {
    "solution2": "shown",
    "solution2_first": true
   },
   "outputs": [],
   "source": [
    "# Connect smoothed susan output file to ApplyMask node here"
   ]
  },
  {
   "cell_type": "code",
   "execution_count": 58,
   "metadata": {
    "solution2": "shown"
   },
   "outputs": [],
   "source": [
    "preproc.connect([(susan, mask_func, [('outputnode.smoothed_files', 'in_file')]),\n",
    "                 (mask_GM, mask_func, [('out_file', 'mask_file')])\n",
    "                 ])"
   ]
  },
  {
   "cell_type": "markdown",
   "metadata": {},
   "source": [
    "### Remove linear trends in functional images\n",
    "\n",
    "Last but not least. Let's use Nipype's `TSNR` module to remove linear and quadratic trends in the functionally smoothed images. For this, you only have to specify the `regress_poly` parameter in the node initiation."
   ]
  },
  {
   "cell_type": "code",
   "execution_count": 59,
   "metadata": {},
   "outputs": [],
   "source": [
    "from nipype.algorithms.confounds import TSNR"
   ]
  },
  {
   "cell_type": "code",
   "execution_count": 60,
   "metadata": {
    "solution2": "shown",
    "solution2_first": true
   },
   "outputs": [],
   "source": [
    "# Initiate TSNR node here"
   ]
  },
  {
   "cell_type": "code",
   "execution_count": 61,
   "metadata": {
    "solution2": "shown"
   },
   "outputs": [],
   "source": [
    "detrend = Node(TSNR(regress_poly=2), name=\"detrend\")"
   ]
  },
  {
   "cell_type": "code",
   "execution_count": 62,
   "metadata": {
    "solution2": "shown",
    "solution2_first": true
   },
   "outputs": [],
   "source": [
    "# Connect the detrend node to the other nodes here"
   ]
  },
  {
   "cell_type": "code",
   "execution_count": 63,
   "metadata": {
    "solution2": "shown"
   },
   "outputs": [],
   "source": [
    "preproc.connect([(mask_func, detrend, [('out_file', 'in_file')])])"
   ]
  },
  {
   "cell_type": "markdown",
   "metadata": {},
   "source": [
    "## Datainput with `SelectFiles` and `iterables` \n",
    "\n",
    "This is all nice and well. But so far we still had to specify the input values for `gunzip_anat` and `gunzip_func` ourselves. How can we scale this up to multiple subjects and/or multiple functional images and make the workflow take the input directly from the BIDS dataset?\n",
    "\n",
    "For this, we need [`SelectFiles`](../../../nipype_tutorial/notebooks/basic_data_input.ipynb#SelectFiles) and [`iterables`](../../../nipype_tutorial/notebooks/basic_iteration.ipynb)! It's rather simple, specify a template and fill-up the placeholder variables."
   ]
  },
  {
   "cell_type": "code",
   "execution_count": 64,
   "metadata": {},
   "outputs": [],
   "source": [
    "# Import the SelectFiles\n",
    "from nipype import SelectFiles\n",
    "\n",
    "# String template with {}-based strings\n",
    "templates = {'anat': 'sub-{subject_id}/ses-{ses_id}/anat/'\n",
    "                     'sub-{subject_id}_ses-test_T1w.nii.gz',\n",
    "             'func': 'sub-{subject_id}/ses-{ses_id}/func/'\n",
    "                     'sub-{subject_id}_ses-{ses_id}_task-{task_id}_bold.nii.gz'}\n",
    "\n",
    "# Create SelectFiles node\n",
    "sf = Node(SelectFiles(templates,\n",
    "                      base_directory='/data/ds000114',\n",
    "                      sort_filelist=True),\n",
    "          name='selectfiles')\n",
    "sf.inputs.ses_id='test'\n",
    "sf.inputs.task_id='fingerfootlips'"
   ]
  },
  {
   "cell_type": "markdown",
   "metadata": {},
   "source": [
    "Now we can specify over which subjects the workflow should iterate. To test the workflow, let's still just look at subject 7."
   ]
  },
  {
   "cell_type": "code",
   "execution_count": 65,
   "metadata": {},
   "outputs": [],
   "source": [
    "subject_list = ['07']\n",
    "sf.iterables = [('subject_id', subject_list)]"
   ]
  },
  {
   "cell_type": "code",
   "execution_count": 66,
   "metadata": {
    "solution2": "shown",
    "solution2_first": true
   },
   "outputs": [],
   "source": [
    "# Connect SelectFiles node to the other nodes here"
   ]
  },
  {
   "cell_type": "code",
   "execution_count": 67,
   "metadata": {
    "solution2": "shown"
   },
   "outputs": [],
   "source": [
    "preproc.connect([(sf, gunzip_anat, [('anat', 'in_file')]),\n",
    "                 (sf, gunzip_func, [('func', 'in_file')])])"
   ]
  },
  {
   "cell_type": "markdown",
   "metadata": {},
   "source": [
    "## Visualize the workflow\n",
    "\n",
    "Now that we're done. Let's look at the workflow that we just created."
   ]
  },
  {
   "cell_type": "code",
   "execution_count": 68,
   "metadata": {},
   "outputs": [
    {
     "name": "stdout",
     "output_type": "stream",
     "text": [
      "200323-19:45:54,360 nipype.workflow INFO:\n",
      "\t Generated workflow graph: /output/work_preproc/graph.png (graph2use=colored, simple_form=True).\n"
     ]
    },
    {
     "data": {
      "image/png": "[encoded data removed]",
      "text/plain": [
       "<IPython.core.display.Image object>"
      ]
     },
     "execution_count": 68,
     "metadata": {
      "image/png": {
       "width": 750
      }
     },
     "output_type": "execute_result"
    }
   ],
   "source": [
    "# Create preproc output graph\n",
    "preproc.write_graph(graph2use='colored', format='png', simple_form=True)\n",
    "\n",
    "# Visualize the graph\n",
    "from IPython.display import Image\n",
    "Image(filename='/output/work_preproc/graph.png', width=750)"
   ]
  },
  {
   "cell_type": "markdown",
   "metadata": {},
   "source": [
    "##  Run the Workflow\n",
    "\n",
    "Now we are ready to run the workflow! Be careful about the `n_procs` parameter if you run a workflow in `'MultiProc'` mode. `n_procs` specifies the number of jobs/cores your computer will use to run the workflow. If this number is too high your computer will try to execute too many things at once and will most likely crash.\n",
    "\n",
    "**Note**: If  you're using a Docker container and FLIRT fails to run without any good reason, you might need to change memory settings in the Docker preferences (6 GB should be enough for this workflow)."
   ]
  },
  {
   "cell_type": "code",
   "execution_count": 69,
   "metadata": {
    "scrolled": true
   },
   "outputs": [
    {
     "name": "stdout",
     "output_type": "stream",
     "text": [
      "200323-19:45:54,429 nipype.workflow INFO:\n",
      "\t Workflow work_preproc settings: ['check', 'execution', 'logging', 'monitoring']\n",
      "200323-19:45:54,508 nipype.workflow INFO:\n",
      "\t Running in parallel.\n",
      "200323-19:45:54,519 nipype.workflow INFO:\n",
      "\t [MultiProc] Running 0 tasks, and 1 jobs ready. Free memory (GB): 10.53/10.53, Free processors: 4/4.\n",
      "200323-19:45:54,684 nipype.workflow INFO:\n",
      "\t [Node] Setting-up \"work_preproc.selectfiles\" in \"/output/work_preproc/_subject_id_07/selectfiles\".\n",
      "200323-19:45:54,734 nipype.workflow INFO:\n",
      "\t [Node] Running \"selectfiles\" (\"nipype.interfaces.io.SelectFiles\")\n",
      "200323-19:45:54,806 nipype.workflow INFO:\n",
      "\t [Node] Finished \"work_preproc.selectfiles\".\n",
      "200323-19:45:56,519 nipype.workflow INFO:\n",
      "\t [Job 0] Completed (work_preproc.selectfiles).\n",
      "200323-19:45:56,525 nipype.workflow INFO:\n",
      "\t [MultiProc] Running 0 tasks, and 2 jobs ready. Free memory (GB): 10.53/10.53, Free processors: 4/4.\n",
      "200323-19:45:56,804 nipype.workflow INFO:\n",
      "\t [Node] Setting-up \"work_preproc.gunzip_anat\" in \"/output/work_preproc/_subject_id_07/gunzip_anat\".\n",
      "200323-19:45:56,801 nipype.workflow INFO:\n",
      "\t [Node] Setting-up \"work_preproc.gunzip_func\" in \"/output/work_preproc/_subject_id_07/gunzip_func\".\n",
      "200323-19:45:56,888 nipype.workflow INFO:\n",
      "\t [Node] Running \"gunzip_func\" (\"nipype.algorithms.misc.Gunzip\")\n",
      "200323-19:45:56,889 nipype.workflow INFO:\n",
      "\t [Node] Running \"gunzip_anat\" (\"nipype.algorithms.misc.Gunzip\")\n",
      "200323-19:45:58,126 nipype.workflow INFO:\n",
      "\t [Node] Finished \"work_preproc.gunzip_anat\".\n",
      "200323-19:45:58,339 nipype.workflow INFO:\n",
      "\t [Node] Finished \"work_preproc.gunzip_func\".\n",
      "200323-19:45:58,522 nipype.workflow INFO:\n",
      "\t [Job 1] Completed (work_preproc.gunzip_func).\n",
      "200323-19:45:58,526 nipype.workflow INFO:\n",
      "\t [Job 6] Completed (work_preproc.gunzip_anat).\n",
      "200323-19:45:58,531 nipype.workflow INFO:\n",
      "\t [MultiProc] Running 0 tasks, and 2 jobs ready. Free memory (GB): 10.53/10.53, Free processors: 4/4.\n",
      "200323-19:45:58,621 nipype.workflow INFO:\n",
      "\t [Node] Setting-up \"work_preproc.extract\" in \"/output/work_preproc/_subject_id_07/extract\".\n",
      "200323-19:45:58,625 nipype.workflow INFO:\n",
      "\t [Node] Setting-up \"work_preproc.segment\" in \"/output/work_preproc/_subject_id_07/segment\".\n",
      "200323-19:45:58,699 nipype.workflow INFO:\n",
      "\t [Node] Running \"extract\" (\"nipype.interfaces.fsl.utils.ExtractROI\"), a CommandLine Interface with command:\n",
      "fslroi /output/work_preproc/_subject_id_07/gunzip_func/sub-07_ses-test_task-fingerfootlips_bold.nii /output/work_preproc/_subject_id_07/extract/sub-07_ses-test_task-fingerfootlips_bold_roi.nii 4 -1\n",
      "200323-19:45:58,703 nipype.workflow INFO:\n",
      "\t [Node] Running \"segment\" (\"nipype.interfaces.spm.preprocess.NewSegment\")\n",
      "200323-19:46:00,103 nipype.workflow INFO:\n",
      "\t [Node] Finished \"work_preproc.extract\".\n",
      "200323-19:46:00,523 nipype.workflow INFO:\n",
      "\t [Job 2] Completed (work_preproc.extract).\n",
      "200323-19:46:00,530 nipype.workflow INFO:\n",
      "\t [MultiProc] Running 1 tasks, and 1 jobs ready. Free memory (GB): 10.33/10.53, Free processors: 3/4.\n",
      "                     Currently running:\n",
      "                       * work_preproc.segment\n",
      "200323-19:46:00,625 nipype.workflow INFO:\n",
      "\t [Node] Setting-up \"work_preproc.slicetime\" in \"/output/work_preproc/_subject_id_07/slicetime\".\n",
      "200323-19:46:00,704 nipype.workflow INFO:\n",
      "\t [Node] Running \"slicetime\" (\"nipype.interfaces.spm.preprocess.SliceTiming\")\n",
      "200323-19:46:02,527 nipype.workflow INFO:\n",
      "\t [MultiProc] Running 2 tasks, and 0 jobs ready. Free memory (GB): 10.13/10.53, Free processors: 2/4.\n",
      "                     Currently running:\n",
      "                       * work_preproc.slicetime\n",
      "                       * work_preproc.segment\n",
      "200323-19:48:33,901 nipype.workflow INFO:\n",
      "\t [Node] Finished \"work_preproc.slicetime\".\n",
      "200323-19:48:34,497 nipype.workflow INFO:\n",
      "\t [Job 3] Completed (work_preproc.slicetime).\n",
      "200323-19:48:34,502 nipype.workflow INFO:\n",
      "\t [MultiProc] Running 1 tasks, and 1 jobs ready. Free memory (GB): 10.33/10.53, Free processors: 3/4.\n",
      "                     Currently running:\n",
      "                       * work_preproc.segment\n",
      "200323-19:48:34,617 nipype.workflow INFO:\n",
      "\t [Node] Setting-up \"work_preproc.mcflirt\" in \"/output/work_preproc/_subject_id_07/mcflirt\".\n",
      "200323-19:48:34,672 nipype.workflow INFO:\n",
      "\t [Node] Running \"mcflirt\" (\"nipype.interfaces.fsl.preprocess.MCFLIRT\"), a CommandLine Interface with command:\n",
      "mcflirt -in /output/work_preproc/_subject_id_07/slicetime/asub-07_ses-test_task-fingerfootlips_bold_roi.nii -meanvol -out /output/work_preproc/_subject_id_07/mcflirt/asub-07_ses-test_task-fingerfootlips_bold_roi_mcf.nii.gz -plots\n",
      "200323-19:48:36,499 nipype.workflow INFO:\n",
      "\t [MultiProc] Running 2 tasks, and 0 jobs ready. Free memory (GB): 10.13/10.53, Free processors: 2/4.\n",
      "                     Currently running:\n",
      "                       * work_preproc.mcflirt\n",
      "                       * work_preproc.segment\n",
      "200323-19:50:20,576 nipype.workflow INFO:\n",
      "\t [Node] Finished \"work_preproc.mcflirt\".\n",
      "200323-19:50:22,477 nipype.workflow INFO:\n",
      "\t [Job 4] Completed (work_preproc.mcflirt).\n",
      "200323-19:50:22,486 nipype.workflow INFO:\n",
      "\t [MultiProc] Running 1 tasks, and 1 jobs ready. Free memory (GB): 10.33/10.53, Free processors: 3/4.\n",
      "                     Currently running:\n",
      "                       * work_preproc.segment\n",
      "200323-19:50:22,641 nipype.workflow INFO:\n",
      "\t [Node] Setting-up \"work_preproc.art\" in \"/output/work_preproc/_subject_id_07/art\".\n",
      "200323-19:50:22,764 nipype.workflow INFO:\n",
      "\t [Node] Running \"art\" (\"nipype.algorithms.rapidart.ArtifactDetect\")\n",
      "200323-19:50:24,481 nipype.workflow INFO:\n",
      "\t [MultiProc] Running 2 tasks, and 0 jobs ready. Free memory (GB): 10.13/10.53, Free processors: 2/4.\n",
      "                     Currently running:\n",
      "                       * work_preproc.art\n",
      "                       * work_preproc.segment\n",
      "200323-19:50:24,924 nipype.workflow INFO:\n",
      "\t [Node] Finished \"work_preproc.art\".\n",
      "200323-19:50:26,477 nipype.workflow INFO:\n",
      "\t [Job 5] Completed (work_preproc.art).\n",
      "200323-19:50:26,482 nipype.workflow INFO:\n",
      "\t [MultiProc] Running 1 tasks, and 0 jobs ready. Free memory (GB): 10.33/10.53, Free processors: 3/4.\n",
      "                     Currently running:\n",
      "                       * work_preproc.segment\n",
      "200323-19:52:05,698 nipype.workflow INFO:\n",
      "\t [Node] Finished \"work_preproc.segment\".\n",
      "200323-19:52:06,474 nipype.workflow INFO:\n",
      "\t [Job 7] Completed (work_preproc.segment).\n",
      "200323-19:52:06,479 nipype.workflow INFO:\n",
      "\t [MultiProc] Running 0 tasks, and 2 jobs ready. Free memory (GB): 10.53/10.53, Free processors: 4/4.\n",
      "200323-19:52:06,569 nipype.workflow INFO:\n",
      "\t [Node] Setting-up \"work_preproc.resample\" in \"/output/work_preproc/_subject_id_07/resample\".\n",
      "200323-19:52:06,570 nipype.workflow INFO:\n",
      "\t [Node] Setting-up \"work_preproc.threshold_WM\" in \"/output/work_preproc/_subject_id_07/threshold_WM\".\n",
      "200323-19:52:06,662 nipype.workflow INFO:\n",
      "\t [Node] Running \"threshold_WM\" (\"nipype.interfaces.fsl.maths.Threshold\"), a CommandLine Interface with command:\n",
      "fslmaths /output/work_preproc/_subject_id_07/segment/c2sub-07_ses-test_T1w.nii -thr 0.5000000000 -bin /output/work_preproc/_subject_id_07/threshold_WM/c2sub-07_ses-test_T1w_thresh.nii\n",
      "200323-19:52:06,663 nipype.workflow INFO:\n",
      "\t [Node] Running \"resample\" (\"nipype.interfaces.fsl.preprocess.FLIRT\"), a CommandLine Interface with command:\n",
      "flirt -in /output/work_preproc/_subject_id_07/segment/c1sub-07_ses-test_T1w.nii -ref /output/work_preproc/_subject_id_07/segment/c1sub-07_ses-test_T1w.nii -out c1sub-07_ses-test_T1w_flirt.nii -omat c1sub-07_ses-test_T1w_flirt.mat -applyisoxfm 4.000000\n",
      "200323-19:52:07,809 nipype.workflow INFO:\n",
      "\t [Node] Finished \"work_preproc.threshold_WM\".\n",
      "200323-19:52:08,475 nipype.workflow INFO:\n",
      "\t [Job 10] Completed (work_preproc.threshold_WM).\n",
      "200323-19:52:08,480 nipype.workflow INFO:\n",
      "\t [MultiProc] Running 1 tasks, and 1 jobs ready. Free memory (GB): 10.33/10.53, Free processors: 3/4.\n",
      "                     Currently running:\n",
      "                       * work_preproc.resample\n",
      "200323-19:52:08,568 nipype.workflow INFO:\n",
      "\t [Node] Setting-up \"work_preproc.coreg\" in \"/output/work_preproc/_subject_id_07/coreg\".\n",
      "200323-19:52:08,660 nipype.workflow INFO:\n",
      "\t [Node] Running \"coreg\" (\"nipype.interfaces.fsl.preprocess.FLIRT\"), a CommandLine Interface with command:\n",
      "flirt -in /output/work_preproc/_subject_id_07/mcflirt/asub-07_ses-test_task-fingerfootlips_bold_roi_mcf.nii.gz_mean_reg.nii.gz -ref /output/work_preproc/_subject_id_07/gunzip_anat/sub-07_ses-test_T1w.nii -out asub-07_ses-test_task-fingerfootlips_bold_roi_mcf.nii.gz_mean_reg_flirt.nii -omat asub-07_ses-test_task-fingerfootlips_bold_roi_mcf.nii.gz_mean_reg_flirt.mat -cost bbr -dof 6 -schedule /usr/share/fsl/5.0/etc/flirtsch/bbr.sch -wmseg /output/work_preproc/_subject_id_07/threshold_WM/c2sub-07_ses-test_T1w_thresh.nii\n"
     ]
    },
    {
     "name": "stdout",
     "output_type": "stream",
     "text": [
      "200323-19:52:10,478 nipype.workflow INFO:\n",
      "\t [MultiProc] Running 2 tasks, and 0 jobs ready. Free memory (GB): 10.13/10.53, Free processors: 2/4.\n",
      "                     Currently running:\n",
      "                       * work_preproc.coreg\n",
      "                       * work_preproc.resample\n",
      "200323-19:52:11,315 nipype.workflow INFO:\n",
      "\t [Node] Finished \"work_preproc.resample\".\n",
      "200323-19:52:12,479 nipype.workflow INFO:\n",
      "\t [Job 8] Completed (work_preproc.resample).\n",
      "200323-19:52:12,483 nipype.workflow INFO:\n",
      "\t [MultiProc] Running 1 tasks, and 1 jobs ready. Free memory (GB): 10.33/10.53, Free processors: 3/4.\n",
      "                     Currently running:\n",
      "                       * work_preproc.coreg\n",
      "200323-19:52:12,573 nipype.workflow INFO:\n",
      "\t [Node] Setting-up \"work_preproc.mask_GM\" in \"/output/work_preproc/_subject_id_07/mask_GM\".\n",
      "200323-19:52:12,632 nipype.workflow INFO:\n",
      "\t [Node] Running \"mask_GM\" (\"nipype.interfaces.fsl.maths.Threshold\"), a CommandLine Interface with command:\n",
      "fslmaths /output/work_preproc/_subject_id_07/resample/c1sub-07_ses-test_T1w_flirt.nii -thr 0.5000000000 -bin -dilF /output/work_preproc/_subject_id_07/mask_GM/c1sub-07_ses-test_T1w_flirt_thresh.nii\n",
      "200323-19:52:13,313 nipype.workflow INFO:\n",
      "\t [Node] Finished \"work_preproc.mask_GM\".\n",
      "200323-19:52:14,482 nipype.workflow INFO:\n",
      "\t [Job 9] Completed (work_preproc.mask_GM).\n",
      "200323-19:52:14,485 nipype.workflow INFO:\n",
      "\t [MultiProc] Running 1 tasks, and 0 jobs ready. Free memory (GB): 10.33/10.53, Free processors: 3/4.\n",
      "                     Currently running:\n",
      "                       * work_preproc.coreg\n",
      "200323-19:53:45,358 nipype.workflow INFO:\n",
      "\t [Node] Finished \"work_preproc.coreg\".\n",
      "200323-19:53:46,479 nipype.workflow INFO:\n",
      "\t [Job 11] Completed (work_preproc.coreg).\n",
      "200323-19:53:46,485 nipype.workflow INFO:\n",
      "\t [MultiProc] Running 0 tasks, and 1 jobs ready. Free memory (GB): 10.53/10.53, Free processors: 4/4.\n",
      "200323-19:53:46,593 nipype.workflow INFO:\n",
      "\t [Node] Setting-up \"work_preproc.applywarp\" in \"/output/work_preproc/_subject_id_07/applywarp\".\n",
      "200323-19:53:46,756 nipype.workflow INFO:\n",
      "\t [Node] Running \"applywarp\" (\"nipype.interfaces.fsl.preprocess.FLIRT\"), a CommandLine Interface with command:\n",
      "flirt -in /output/work_preproc/_subject_id_07/mcflirt/asub-07_ses-test_task-fingerfootlips_bold_roi_mcf.nii.gz -ref /output/work_preproc/_subject_id_07/gunzip_anat/sub-07_ses-test_T1w.nii -out asub-07_ses-test_task-fingerfootlips_bold_roi_mcf_flirt.nii -omat asub-07_ses-test_task-fingerfootlips_bold_roi_mcf_flirt.mat -applyisoxfm 4.000000 -init /output/work_preproc/_subject_id_07/coreg/asub-07_ses-test_task-fingerfootlips_bold_roi_mcf.nii.gz_mean_reg_flirt.mat -interp spline\n",
      "200323-19:53:48,445 nipype.workflow INFO:\n",
      "\t [MultiProc] Running 1 tasks, and 0 jobs ready. Free memory (GB): 10.33/10.53, Free processors: 3/4.\n",
      "                     Currently running:\n",
      "                       * work_preproc.applywarp\n",
      "200323-19:54:00,702 nipype.workflow INFO:\n",
      "\t [Node] Finished \"work_preproc.applywarp\".\n",
      "200323-19:54:02,460 nipype.workflow INFO:\n",
      "\t [Job 12] Completed (work_preproc.applywarp).\n",
      "200323-19:54:02,466 nipype.workflow INFO:\n",
      "\t [MultiProc] Running 0 tasks, and 2 jobs ready. Free memory (GB): 10.53/10.53, Free processors: 4/4.\n",
      "200323-19:54:02,576 nipype.workflow INFO:\n",
      "\t [Node] Setting-up \"work_preproc.susan.mask\" in \"/output/work_preproc/susan/_subject_id_07/mask\".\n",
      "200323-19:54:02,606 nipype.workflow INFO:\n",
      "\t [Node] Setting-up \"work_preproc.susan.median\" in \"/output/work_preproc/susan/_subject_id_07/median\".\n",
      "200323-19:54:02,632 nipype.workflow INFO:\n",
      "\t [Node] Setting-up \"_mask0\" in \"/output/work_preproc/susan/_subject_id_07/mask/mapflow/_mask0\".\n",
      "200323-19:54:02,664 nipype.workflow INFO:\n",
      "\t [Node] Setting-up \"_median0\" in \"/output/work_preproc/susan/_subject_id_07/median/mapflow/_median0\".\n",
      "200323-19:54:02,684 nipype.workflow INFO:\n",
      "\t [Node] Running \"_mask0\" (\"nipype.interfaces.fsl.utils.ImageMaths\"), a CommandLine Interface with command:\n",
      "fslmaths /output/work_preproc/_subject_id_07/applywarp/asub-07_ses-test_task-fingerfootlips_bold_roi_mcf_flirt.nii -mas /output/work_preproc/_subject_id_07/mask_GM/c1sub-07_ses-test_T1w_flirt_thresh.nii /output/work_preproc/susan/_subject_id_07/mask/mapflow/_mask0/asub-07_ses-test_task-fingerfootlips_bold_roi_mcf_flirt_mask.nii.gz\n",
      "200323-19:54:02,716 nipype.workflow INFO:\n",
      "\t [Node] Running \"_median0\" (\"nipype.interfaces.fsl.utils.ImageStats\"), a CommandLine Interface with command:\n",
      "fslstats /output/work_preproc/_subject_id_07/applywarp/asub-07_ses-test_task-fingerfootlips_bold_roi_mcf_flirt.nii -k /output/work_preproc/_subject_id_07/mask_GM/c1sub-07_ses-test_T1w_flirt_thresh.nii -p 50 \n",
      "200323-19:54:04,463 nipype.workflow INFO:\n",
      "\t [MultiProc] Running 2 tasks, and 0 jobs ready. Free memory (GB): 10.13/10.53, Free processors: 2/4.\n",
      "                     Currently running:\n",
      "                       * work_preproc.susan.median\n",
      "                       * work_preproc.susan.mask\n",
      "200323-19:54:04,914 nipype.workflow INFO:\n",
      "\t [Node] Finished \"_median0\".\n",
      "200323-19:54:04,936 nipype.workflow INFO:\n",
      "\t [Node] Finished \"work_preproc.susan.median\".\n",
      "200323-19:54:06,464 nipype.workflow INFO:\n",
      "\t [Job 15] Completed (work_preproc.susan.median).\n",
      "200323-19:54:06,468 nipype.workflow INFO:\n",
      "\t [MultiProc] Running 1 tasks, and 0 jobs ready. Free memory (GB): 10.33/10.53, Free processors: 3/4.\n",
      "                     Currently running:\n",
      "                       * work_preproc.susan.mask\n",
      "200323-19:54:07,686 nipype.workflow INFO:\n",
      "\t [Node] Finished \"_mask0\".\n",
      "200323-19:54:07,708 nipype.workflow INFO:\n",
      "\t [Node] Finished \"work_preproc.susan.mask\".\n",
      "200323-19:54:08,467 nipype.workflow INFO:\n",
      "\t [Job 13] Completed (work_preproc.susan.mask).\n",
      "200323-19:54:08,470 nipype.workflow INFO:\n",
      "\t [MultiProc] Running 0 tasks, and 1 jobs ready. Free memory (GB): 10.53/10.53, Free processors: 4/4.\n",
      "200323-19:54:08,595 nipype.workflow INFO:\n",
      "\t [Node] Setting-up \"work_preproc.susan.meanfunc2\" in \"/output/work_preproc/susan/_subject_id_07/meanfunc2\".\n",
      "200323-19:54:08,649 nipype.workflow INFO:\n",
      "\t [Node] Setting-up \"_meanfunc20\" in \"/output/work_preproc/susan/_subject_id_07/meanfunc2/mapflow/_meanfunc20\".\n",
      "200323-19:54:08,708 nipype.workflow INFO:\n",
      "\t [Node] Running \"_meanfunc20\" (\"nipype.interfaces.fsl.utils.ImageMaths\"), a CommandLine Interface with command:\n",
      "fslmaths /output/work_preproc/susan/_subject_id_07/mask/mapflow/_mask0/asub-07_ses-test_task-fingerfootlips_bold_roi_mcf_flirt_mask.nii.gz -Tmean /output/work_preproc/susan/_subject_id_07/meanfunc2/mapflow/_meanfunc20/asub-07_ses-test_task-fingerfootlips_bold_roi_mcf_flirt_mask_mean.nii.gz\n",
      "200323-19:54:10,469 nipype.workflow INFO:\n",
      "\t [MultiProc] Running 1 tasks, and 0 jobs ready. Free memory (GB): 10.33/10.53, Free processors: 3/4.\n",
      "                     Currently running:\n",
      "                       * work_preproc.susan.meanfunc2\n",
      "200323-19:54:11,51 nipype.workflow INFO:\n",
      "\t [Node] Finished \"_meanfunc20\".\n",
      "200323-19:54:11,77 nipype.workflow INFO:\n",
      "\t [Node] Finished \"work_preproc.susan.meanfunc2\".\n",
      "200323-19:54:12,472 nipype.workflow INFO:\n",
      "\t [Job 14] Completed (work_preproc.susan.meanfunc2).\n",
      "200323-19:54:12,476 nipype.workflow INFO:\n",
      "\t [MultiProc] Running 0 tasks, and 1 jobs ready. Free memory (GB): 10.53/10.53, Free processors: 4/4.\n",
      "200323-19:54:12,554 nipype.workflow INFO:\n",
      "\t [Node] Setting-up \"work_preproc.susan.merge\" in \"/output/work_preproc/susan/_subject_id_07/merge\".\n",
      "200323-19:54:12,604 nipype.workflow INFO:\n",
      "\t [Node] Running \"merge\" (\"nipype.interfaces.utility.base.Merge\")\n",
      "200323-19:54:12,648 nipype.workflow INFO:\n",
      "\t [Node] Finished \"work_preproc.susan.merge\".\n",
      "200323-19:54:14,475 nipype.workflow INFO:\n",
      "\t [Job 16] Completed (work_preproc.susan.merge).\n",
      "200323-19:54:14,479 nipype.workflow INFO:\n",
      "\t [MultiProc] Running 0 tasks, and 1 jobs ready. Free memory (GB): 10.53/10.53, Free processors: 4/4.\n",
      "200323-19:54:14,558 nipype.workflow INFO:\n",
      "\t [Node] Setting-up \"work_preproc.susan.multi_inputs\" in \"/output/work_preproc/susan/_subject_id_07/multi_inputs\".\n",
      "200323-19:54:14,631 nipype.workflow INFO:\n",
      "\t [Node] Running \"multi_inputs\" (\"nipype.interfaces.utility.wrappers.Function\")\n",
      "200323-19:54:14,678 nipype.workflow INFO:\n",
      "\t [Node] Finished \"work_preproc.susan.multi_inputs\".\n",
      "200323-19:54:16,477 nipype.workflow INFO:\n",
      "\t [Job 17] Completed (work_preproc.susan.multi_inputs).\n"
     ]
    },
    {
     "name": "stdout",
     "output_type": "stream",
     "text": [
      "200323-19:54:16,483 nipype.workflow INFO:\n",
      "\t [MultiProc] Running 0 tasks, and 1 jobs ready. Free memory (GB): 10.53/10.53, Free processors: 4/4.\n",
      "200323-19:54:16,582 nipype.workflow INFO:\n",
      "\t [Node] Setting-up \"work_preproc.susan.smooth\" in \"/output/work_preproc/susan/_subject_id_07/smooth\".\n",
      "200323-19:54:16,653 nipype.workflow INFO:\n",
      "\t [Node] Setting-up \"_smooth0\" in \"/output/work_preproc/susan/_subject_id_07/smooth/mapflow/_smooth0\".\n",
      "200323-19:54:16,700 nipype.workflow INFO:\n",
      "\t [Node] Running \"_smooth0\" (\"nipype.interfaces.fsl.preprocess.SUSAN\"), a CommandLine Interface with command:\n",
      "susan /output/work_preproc/_subject_id_07/applywarp/asub-07_ses-test_task-fingerfootlips_bold_roi_mcf_flirt.nii 1046.2500000000 1.6986436006 3 1 1 /output/work_preproc/susan/_subject_id_07/meanfunc2/mapflow/_meanfunc20/asub-07_ses-test_task-fingerfootlips_bold_roi_mcf_flirt_mask_mean.nii.gz 1046.2500000000 /output/work_preproc/susan/_subject_id_07/smooth/mapflow/_smooth0/asub-07_ses-test_task-fingerfootlips_bold_roi_mcf_flirt_smooth.nii.gz\n",
      "200323-19:54:18,448 nipype.workflow INFO:\n",
      "\t [MultiProc] Running 1 tasks, and 0 jobs ready. Free memory (GB): 10.33/10.53, Free processors: 3/4.\n",
      "                     Currently running:\n",
      "                       * work_preproc.susan.smooth\n",
      "200323-19:55:03,393 nipype.workflow INFO:\n",
      "\t [Node] Finished \"_smooth0\".\n",
      "200323-19:55:03,411 nipype.workflow INFO:\n",
      "\t [Node] Finished \"work_preproc.susan.smooth\".\n",
      "200323-19:55:04,460 nipype.workflow INFO:\n",
      "\t [Job 18] Completed (work_preproc.susan.smooth).\n",
      "200323-19:55:04,465 nipype.workflow INFO:\n",
      "\t [MultiProc] Running 0 tasks, and 1 jobs ready. Free memory (GB): 10.53/10.53, Free processors: 4/4.\n",
      "200323-19:55:04,612 nipype.workflow INFO:\n",
      "\t [Node] Setting-up \"work_preproc.mask_func\" in \"/output/work_preproc/_subject_id_07/mask_func\".\n",
      "200323-19:55:04,695 nipype.workflow INFO:\n",
      "\t [Node] Setting-up \"_mask_func0\" in \"/output/work_preproc/_subject_id_07/mask_func/mapflow/_mask_func0\".\n",
      "200323-19:55:04,781 nipype.workflow INFO:\n",
      "\t [Node] Running \"_mask_func0\" (\"nipype.interfaces.fsl.maths.ApplyMask\"), a CommandLine Interface with command:\n",
      "fslmaths /output/work_preproc/susan/_subject_id_07/smooth/mapflow/_smooth0/asub-07_ses-test_task-fingerfootlips_bold_roi_mcf_flirt_smooth.nii.gz -mas /output/work_preproc/_subject_id_07/mask_GM/c1sub-07_ses-test_T1w_flirt_thresh.nii /output/work_preproc/_subject_id_07/mask_func/mapflow/_mask_func0/asub-07_ses-test_task-fingerfootlips_bold_roi_mcf_flirt_smooth_masked.nii\n",
      "200323-19:55:06,462 nipype.workflow INFO:\n",
      "\t [MultiProc] Running 1 tasks, and 0 jobs ready. Free memory (GB): 10.33/10.53, Free processors: 3/4.\n",
      "                     Currently running:\n",
      "                       * work_preproc.mask_func\n",
      "200323-19:55:07,403 nipype.workflow INFO:\n",
      "\t [Node] Finished \"_mask_func0\".\n",
      "200323-19:55:07,424 nipype.workflow INFO:\n",
      "\t [Node] Finished \"work_preproc.mask_func\".\n",
      "200323-19:55:08,466 nipype.workflow INFO:\n",
      "\t [Job 19] Completed (work_preproc.mask_func).\n",
      "200323-19:55:08,471 nipype.workflow INFO:\n",
      "\t [MultiProc] Running 0 tasks, and 1 jobs ready. Free memory (GB): 10.53/10.53, Free processors: 4/4.\n",
      "200323-19:55:08,551 nipype.workflow INFO:\n",
      "\t [Node] Setting-up \"work_preproc.detrend\" in \"/output/work_preproc/_subject_id_07/detrend\".\n",
      "200323-19:55:08,602 nipype.workflow INFO:\n",
      "\t [Node] Running \"detrend\" (\"nipype.algorithms.confounds.TSNR\")\n",
      "200323-19:55:10,471 nipype.workflow INFO:\n",
      "\t [MultiProc] Running 1 tasks, and 0 jobs ready. Free memory (GB): 10.33/10.53, Free processors: 3/4.\n",
      "                     Currently running:\n",
      "                       * work_preproc.detrend\n",
      "200323-19:55:15,531 nipype.workflow INFO:\n",
      "\t [Node] Finished \"work_preproc.detrend\".\n",
      "200323-19:55:16,475 nipype.workflow INFO:\n",
      "\t [Job 20] Completed (work_preproc.detrend).\n",
      "200323-19:55:16,480 nipype.workflow INFO:\n",
      "\t [MultiProc] Running 0 tasks, and 0 jobs ready. Free memory (GB): 10.53/10.53, Free processors: 4/4.\n"
     ]
    },
    {
     "data": {
      "text/plain": [
       "<networkx.classes.digraph.DiGraph at 0x7f26be3fbb10>"
      ]
     },
     "execution_count": 69,
     "metadata": {},
     "output_type": "execute_result"
    }
   ],
   "source": [
    "preproc.run('MultiProc', plugin_args={'n_procs': 4})"
   ]
  },
  {
   "cell_type": "markdown",
   "metadata": {},
   "source": [
    "## Inspect output\n",
    "\n",
    "What did we actually do? Let's look at all the data that was created."
   ]
  },
  {
   "cell_type": "code",
   "execution_count": 70,
   "metadata": {
    "scrolled": true
   },
   "outputs": [
    {
     "name": "stdout",
     "output_type": "stream",
     "text": [
      "\u001b[01;34m/output/work_preproc/\u001b[00m\n",
      "├── \u001b[01;35mgraph.png\u001b[00m\n",
      "├── \u001b[01;34m_subject_id_07\u001b[00m\n",
      "│   ├── \u001b[01;34mapplywarp\u001b[00m\n",
      "│   │   ├── asub-07_ses-test_task-fingerfootlips_bold_roi_mcf_flirt.mat\n",
      "│   │   └── asub-07_ses-test_task-fingerfootlips_bold_roi_mcf_flirt.nii\n",
      "│   ├── \u001b[01;34mart\u001b[00m\n",
      "│   │   ├── \u001b[01;31mmask.asub-07_ses-test_task-fingerfootlips_bold_roi_mcf.nii.gz\u001b[00m\n",
      "│   │   └── \u001b[01;35mplot.asub-07_ses-test_task-fingerfootlips_bold_roi_mcf.svg\u001b[00m\n",
      "│   ├── \u001b[01;34mcoreg\u001b[00m\n",
      "│   │   ├── asub-07_ses-test_task-fingerfootlips_bold_roi_mcf.nii.gz_mean_reg_flirt.mat\n",
      "│   │   └── asub-07_ses-test_task-fingerfootlips_bold_roi_mcf.nii.gz_mean_reg_flirt.nii\n",
      "│   ├── \u001b[01;34mdetrend\u001b[00m\n",
      "│   │   ├── \u001b[01;31mdetrend.nii.gz\u001b[00m\n",
      "│   │   ├── \u001b[01;31mmean.nii.gz\u001b[00m\n",
      "│   │   ├── \u001b[01;31mstdev.nii.gz\u001b[00m\n",
      "│   │   └── \u001b[01;31mtsnr.nii.gz\u001b[00m\n",
      "│   ├── \u001b[01;34mextract\u001b[00m\n",
      "│   │   └── sub-07_ses-test_task-fingerfootlips_bold_roi.nii\n",
      "│   ├── \u001b[01;34mgunzip_anat\u001b[00m\n",
      "│   │   └── sub-07_ses-test_T1w.nii\n",
      "│   ├── \u001b[01;34mgunzip_func\u001b[00m\n",
      "│   │   └── sub-07_ses-test_task-fingerfootlips_bold.nii\n",
      "│   ├── \u001b[01;34mmask_func\u001b[00m\n",
      "│   │   └── \u001b[01;34mmapflow\u001b[00m\n",
      "│   │       └── \u001b[01;34m_mask_func0\u001b[00m\n",
      "│   │           └── asub-07_ses-test_task-fingerfootlips_bold_roi_mcf_flirt_smooth_masked.nii\n",
      "│   ├── \u001b[01;34mmask_GM\u001b[00m\n",
      "│   │   └── c1sub-07_ses-test_T1w_flirt_thresh.nii\n",
      "│   ├── \u001b[01;34mmcflirt\u001b[00m\n",
      "│   │   ├── \u001b[01;31masub-07_ses-test_task-fingerfootlips_bold_roi_mcf.nii.gz\u001b[00m\n",
      "│   │   ├── \u001b[01;31masub-07_ses-test_task-fingerfootlips_bold_roi_mcf.nii.gz_mean_reg.nii.gz\u001b[00m\n",
      "│   │   └── asub-07_ses-test_task-fingerfootlips_bold_roi_mcf.nii.gz.par\n",
      "│   ├── \u001b[01;34mresample\u001b[00m\n",
      "│   │   ├── c1sub-07_ses-test_T1w_flirt.mat\n",
      "│   │   └── c1sub-07_ses-test_T1w_flirt.nii\n",
      "│   ├── \u001b[01;34msegment\u001b[00m\n",
      "│   │   ├── c1sub-07_ses-test_T1w.nii\n",
      "│   │   ├── c2sub-07_ses-test_T1w.nii\n",
      "│   │   └── c3sub-07_ses-test_T1w.nii\n",
      "│   ├── \u001b[01;34mselectfiles\u001b[00m\n",
      "│   ├── \u001b[01;34mslicetime\u001b[00m\n",
      "│   │   └── asub-07_ses-test_task-fingerfootlips_bold_roi.nii\n",
      "│   └── \u001b[01;34mthreshold_WM\u001b[00m\n",
      "│       └── c2sub-07_ses-test_T1w_thresh.nii\n",
      "└── \u001b[01;34msusan\u001b[00m\n",
      "    └── \u001b[01;34m_subject_id_07\u001b[00m\n",
      "        ├── \u001b[01;34mmask\u001b[00m\n",
      "        │   └── \u001b[01;34mmapflow\u001b[00m\n",
      "        │       └── \u001b[01;34m_mask0\u001b[00m\n",
      "        │           └── \u001b[01;31masub-07_ses-test_task-fingerfootlips_bold_roi_mcf_flirt_mask.nii.gz\u001b[00m\n",
      "        ├── \u001b[01;34mmeanfunc2\u001b[00m\n",
      "        │   └── \u001b[01;34mmapflow\u001b[00m\n",
      "        │       └── \u001b[01;34m_meanfunc20\u001b[00m\n",
      "        │           └── \u001b[01;31masub-07_ses-test_task-fingerfootlips_bold_roi_mcf_flirt_mask_mean.nii.gz\u001b[00m\n",
      "        ├── \u001b[01;34mmedian\u001b[00m\n",
      "        │   └── \u001b[01;34mmapflow\u001b[00m\n",
      "        │       └── \u001b[01;34m_median0\u001b[00m\n",
      "        ├── \u001b[01;34mmerge\u001b[00m\n",
      "        ├── \u001b[01;34mmulti_inputs\u001b[00m\n",
      "        └── \u001b[01;34msmooth\u001b[00m\n",
      "            └── \u001b[01;34mmapflow\u001b[00m\n",
      "                └── \u001b[01;34m_smooth0\u001b[00m\n",
      "                    └── \u001b[01;31masub-07_ses-test_task-fingerfootlips_bold_roi_mcf_flirt_smooth.nii.gz\u001b[00m\n",
      "\n",
      "34 directories, 29 files\n"
     ]
    }
   ],
   "source": [
    "!tree /output/work_preproc/ -I '*js|*json|*pklz|_report|*dot|*html|*txt|*.m'"
   ]
  },
  {
   "cell_type": "markdown",
   "metadata": {},
   "source": [
    "But what did we do specifically? Well, let's investigate."
   ]
  },
  {
   "cell_type": "markdown",
   "metadata": {},
   "source": [
    "### Motion Correction and Artifact Detection\n",
    "\n",
    "How much did the subject move in the scanner and where there any outliers in the functional images?"
   ]
  },
  {
   "cell_type": "code",
   "execution_count": 71,
   "metadata": {},
   "outputs": [],
   "source": [
    "%matplotlib inline"
   ]
  },
  {
   "cell_type": "code",
   "execution_count": 72,
   "metadata": {},
   "outputs": [
    {
     "data": {
      "image/png": "[encoded data removed]",
      "text/plain": [
       "<Figure size 1080x360 with 2 Axes>"
      ]
     },
     "metadata": {
      "needs_background": "light"
     },
     "output_type": "display_data"
    }
   ],
   "source": [
    "# Plot the motion paramters\n",
    "import numpy as np\n",
    "import matplotlib.pyplot as plt\n",
    "par = np.loadtxt('/output/work_preproc/_subject_id_07/mcflirt/'\n",
    "                 'asub-07_ses-test_task-fingerfootlips_bold_roi_mcf.nii.gz.par')\n",
    "fig, axes = plt.subplots(2, 1, figsize=(15, 5))\n",
    "axes[0].set_ylabel('rotation (radians)')\n",
    "axes[0].plot(par[0:, :3])\n",
    "axes[1].plot(par[0:, 3:])\n",
    "axes[1].set_xlabel('time (TR)')\n",
    "axes[1].set_ylabel('translation (mm)');"
   ]
  },
  {
   "cell_type": "markdown",
   "metadata": {},
   "source": [
    "The motion parameters seems to look ok. What about the detection of artifacts?"
   ]
  },
  {
   "cell_type": "code",
   "execution_count": 73,
   "metadata": {},
   "outputs": [
    {
     "data": {
      "image/svg+xml": [
       "<svg height=\"288pt\" version=\"1.1\" viewBox=\"0 0 432 288\" width=\"432pt\" xmlns=\"http://www.w3.org/2000/svg\" xmlns:xlink=\"http://www.w3.org/1999/xlink\">\n",
       " <defs>\n",
       "  <style type=\"text/css\">\n",
       "*{stroke-linecap:butt;stroke-linejoin:round;}\n",
       "  </style>\n",
       " </defs>\n",
       " <g id=\"figure_1\">\n",
       "  <g id=\"patch_1\">\n",
       "   <path d=\"M 0 288  L 432 288  L 432 0  L 0 0  z \" style=\"fill:#ffffff;\"/>\n",
       "  </g>\n",
       "  <g id=\"axes_1\">\n",
       "   <g id=\"patch_2\">\n",
       "    <path d=\"M 54 133.396364  L 388.8 133.396364  L 388.8 34.56  L 54 34.56  z \" style=\"fill:#ffffff;\"/>\n",
       "   </g>\n",
       "   <g id=\"matplotlib.axis_1\">\n",
       "    <g id=\"xtick_1\">\n",
       "     <g id=\"line2d_1\">\n",
       "      <defs>\n",
       "       <path d=\"M 0 0  L 0 3.5  \" id=\"mf017e48501\" style=\"stroke:#000000;stroke-width:0.8;\"/>\n",
       "      </defs>\n",
       "      <g>\n",
       "       <use style=\"stroke:#000000;stroke-width:0.8;\" x=\"54\" xlink:href=\"#mf017e48501\" y=\"133.396364\"/>\n",
       "      </g>\n",
       "     </g>\n",
       "     <g id=\"text_1\">\n",
       "      <!-- 0 -->\n",
       "      <defs>\n",
       "       <path d=\"M 31.78125 66.40625  Q 24.171875 66.40625 20.328125 58.90625  Q 16.5 51.421875 16.5 36.375  Q 16.5 21.390625 20.328125 13.890625  Q 24.171875 6.390625 31.78125 6.390625  Q 39.453125 6.390625 43.28125 13.890625  Q 47.125 21.390625 47.125 36.375  Q 47.125 51.421875 43.28125 58.90625  Q 39.453125 66.40625 31.78125 66.40625  z M 31.78125 74.21875  Q 44.046875 74.21875 50.515625 64.515625  Q 56.984375 54.828125 56.984375 36.375  Q 56.984375 17.96875 50.515625 8.265625  Q 44.046875 -1.421875 31.78125 -1.421875  Q 19.53125 -1.421875 13.0625 8.265625  Q 6.59375 17.96875 6.59375 36.375  Q 6.59375 54.828125 13.0625 64.515625  Q 19.53125 74.21875 31.78125 74.21875  z \" id=\"DejaVuSans-48\"/>\n",
       "      </defs>\n",
       "      <g transform=\"translate(50.81875 147.994801)scale(0.1 -0.1)\">\n",
       "       <use xlink:href=\"#DejaVuSans-48\"/>\n",
       "      </g>\n",
       "     </g>\n",
       "    </g>\n",
       "    <g id=\"xtick_2\">\n",
       "     <g id=\"line2d_2\">\n",
       "      <g>\n",
       "       <use style=\"stroke:#000000;stroke-width:0.8;\" x=\"91.407821\" xlink:href=\"#mf017e48501\" y=\"133.396364\"/>\n",
       "      </g>\n",
       "     </g>\n",
       "     <g id=\"text_2\">\n",
       "      <!-- 20 -->\n",
       "      <defs>\n",
       "       <path d=\"M 19.1875 8.296875  L 53.609375 8.296875  L 53.609375 0  L 7.328125 0  L 7.328125 8.296875  Q 12.9375 14.109375 22.625 23.890625  Q 32.328125 33.6875 34.8125 36.53125  Q 39.546875 41.84375 41.421875 45.53125  Q 43.3125 49.21875 43.3125 52.78125  Q 43.3125 58.59375 39.234375 62.25  Q 35.15625 65.921875 28.609375 65.921875  Q 23.96875 65.921875 18.8125 64.3125  Q 13.671875 62.703125 7.8125 59.421875  L 7.8125 69.390625  Q 13.765625 71.78125 18.9375 73  Q 24.125 74.21875 28.421875 74.21875  Q 39.75 74.21875 46.484375 68.546875  Q 53.21875 62.890625 53.21875 53.421875  Q 53.21875 48.921875 51.53125 44.890625  Q 49.859375 40.875 45.40625 35.40625  Q 44.1875 33.984375 37.640625 27.21875  Q 31.109375 20.453125 19.1875 8.296875  z \" id=\"DejaVuSans-50\"/>\n",
       "      </defs>\n",
       "      <g transform=\"translate(85.045321 147.994801)scale(0.1 -0.1)\">\n",
       "       <use xlink:href=\"#DejaVuSans-50\"/>\n",
       "       <use x=\"63.623047\" xlink:href=\"#DejaVuSans-48\"/>\n",
       "      </g>\n",
       "     </g>\n",
       "    </g>\n",
       "    <g id=\"xtick_3\">\n",
       "     <g id=\"line2d_3\">\n",
       "      <g>\n",
       "       <use style=\"stroke:#000000;stroke-width:0.8;\" x=\"128.815642\" xlink:href=\"#mf017e48501\" y=\"133.396364\"/>\n",
       "      </g>\n",
       "     </g>\n",
       "     <g id=\"text_3\">\n",
       "      <!-- 40 -->\n",
       "      <defs>\n",
       "       <path d=\"M 37.796875 64.3125  L 12.890625 25.390625  L 37.796875 25.390625  z M 35.203125 72.90625  L 47.609375 72.90625  L 47.609375 25.390625  L 58.015625 25.390625  L 58.015625 17.1875  L 47.609375 17.1875  L 47.609375 0  L 37.796875 0  L 37.796875 17.1875  L 4.890625 17.1875  L 4.890625 26.703125  z \" id=\"DejaVuSans-52\"/>\n",
       "      </defs>\n",
       "      <g transform=\"translate(122.453142 147.994801)scale(0.1 -0.1)\">\n",
       "       <use xlink:href=\"#DejaVuSans-52\"/>\n",
       "       <use x=\"63.623047\" xlink:href=\"#DejaVuSans-48\"/>\n",
       "      </g>\n",
       "     </g>\n",
       "    </g>\n",
       "    <g id=\"xtick_4\">\n",
       "     <g id=\"line2d_4\">\n",
       "      <g>\n",
       "       <use style=\"stroke:#000000;stroke-width:0.8;\" x=\"166.223464\" xlink:href=\"#mf017e48501\" y=\"133.396364\"/>\n",
       "      </g>\n",
       "     </g>\n",
       "     <g id=\"text_4\">\n",
       "      <!-- 60 -->\n",
       "      <defs>\n",
       "       <path d=\"M 33.015625 40.375  Q 26.375 40.375 22.484375 35.828125  Q 18.609375 31.296875 18.609375 23.390625  Q 18.609375 15.53125 22.484375 10.953125  Q 26.375 6.390625 33.015625 6.390625  Q 39.65625 6.390625 43.53125 10.953125  Q 47.40625 15.53125 47.40625 23.390625  Q 47.40625 31.296875 43.53125 35.828125  Q 39.65625 40.375 33.015625 40.375  z M 52.59375 71.296875  L 52.59375 62.3125  Q 48.875 64.0625 45.09375 64.984375  Q 41.3125 65.921875 37.59375 65.921875  Q 27.828125 65.921875 22.671875 59.328125  Q 17.53125 52.734375 16.796875 39.40625  Q 19.671875 43.65625 24.015625 45.921875  Q 28.375 48.1875 33.59375 48.1875  Q 44.578125 48.1875 50.953125 41.515625  Q 57.328125 34.859375 57.328125 23.390625  Q 57.328125 12.15625 50.6875 5.359375  Q 44.046875 -1.421875 33.015625 -1.421875  Q 20.359375 -1.421875 13.671875 8.265625  Q 6.984375 17.96875 6.984375 36.375  Q 6.984375 53.65625 15.1875 63.9375  Q 23.390625 74.21875 37.203125 74.21875  Q 40.921875 74.21875 44.703125 73.484375  Q 48.484375 72.75 52.59375 71.296875  z \" id=\"DejaVuSans-54\"/>\n",
       "      </defs>\n",
       "      <g transform=\"translate(159.860964 147.994801)scale(0.1 -0.1)\">\n",
       "       <use xlink:href=\"#DejaVuSans-54\"/>\n",
       "       <use x=\"63.623047\" xlink:href=\"#DejaVuSans-48\"/>\n",
       "      </g>\n",
       "     </g>\n",
       "    </g>\n",
       "    <g id=\"xtick_5\">\n",
       "     <g id=\"line2d_5\">\n",
       "      <g>\n",
       "       <use style=\"stroke:#000000;stroke-width:0.8;\" x=\"203.631285\" xlink:href=\"#mf017e48501\" y=\"133.396364\"/>\n",
       "      </g>\n",
       "     </g>\n",
       "     <g id=\"text_5\">\n",
       "      <!-- 80 -->\n",
       "      <defs>\n",
       "       <path d=\"M 31.78125 34.625  Q 24.75 34.625 20.71875 30.859375  Q 16.703125 27.09375 16.703125 20.515625  Q 16.703125 13.921875 20.71875 10.15625  Q 24.75 6.390625 31.78125 6.390625  Q 38.8125 6.390625 42.859375 10.171875  Q 46.921875 13.96875 46.921875 20.515625  Q 46.921875 27.09375 42.890625 30.859375  Q 38.875 34.625 31.78125 34.625  z M 21.921875 38.8125  Q 15.578125 40.375 12.03125 44.71875  Q 8.5 49.078125 8.5 55.328125  Q 8.5 64.0625 14.71875 69.140625  Q 20.953125 74.21875 31.78125 74.21875  Q 42.671875 74.21875 48.875 69.140625  Q 55.078125 64.0625 55.078125 55.328125  Q 55.078125 49.078125 51.53125 44.71875  Q 48 40.375 41.703125 38.8125  Q 48.828125 37.15625 52.796875 32.3125  Q 56.78125 27.484375 56.78125 20.515625  Q 56.78125 9.90625 50.3125 4.234375  Q 43.84375 -1.421875 31.78125 -1.421875  Q 19.734375 -1.421875 13.25 4.234375  Q 6.78125 9.90625 6.78125 20.515625  Q 6.78125 27.484375 10.78125 32.3125  Q 14.796875 37.15625 21.921875 38.8125  z M 18.3125 54.390625  Q 18.3125 48.734375 21.84375 45.5625  Q 25.390625 42.390625 31.78125 42.390625  Q 38.140625 42.390625 41.71875 45.5625  Q 45.3125 48.734375 45.3125 54.390625  Q 45.3125 60.0625 41.71875 63.234375  Q 38.140625 66.40625 31.78125 66.40625  Q 25.390625 66.40625 21.84375 63.234375  Q 18.3125 60.0625 18.3125 54.390625  z \" id=\"DejaVuSans-56\"/>\n",
       "      </defs>\n",
       "      <g transform=\"translate(197.268785 147.994801)scale(0.1 -0.1)\">\n",
       "       <use xlink:href=\"#DejaVuSans-56\"/>\n",
       "       <use x=\"63.623047\" xlink:href=\"#DejaVuSans-48\"/>\n",
       "      </g>\n",
       "     </g>\n",
       "    </g>\n",
       "    <g id=\"xtick_6\">\n",
       "     <g id=\"line2d_6\">\n",
       "      <g>\n",
       "       <use style=\"stroke:#000000;stroke-width:0.8;\" x=\"241.039106\" xlink:href=\"#mf017e48501\" y=\"133.396364\"/>\n",
       "      </g>\n",
       "     </g>\n",
       "     <g id=\"text_6\">\n",
       "      <!-- 100 -->\n",
       "      <defs>\n",
       "       <path d=\"M 12.40625 8.296875  L 28.515625 8.296875  L 28.515625 63.921875  L 10.984375 60.40625  L 10.984375 69.390625  L 28.421875 72.90625  L 38.28125 72.90625  L 38.28125 8.296875  L 54.390625 8.296875  L 54.390625 0  L 12.40625 0  z \" id=\"DejaVuSans-49\"/>\n",
       "      </defs>\n",
       "      <g transform=\"translate(231.495356 147.994801)scale(0.1 -0.1)\">\n",
       "       <use xlink:href=\"#DejaVuSans-49\"/>\n",
       "       <use x=\"63.623047\" xlink:href=\"#DejaVuSans-48\"/>\n",
       "       <use x=\"127.246094\" xlink:href=\"#DejaVuSans-48\"/>\n",
       "      </g>\n",
       "     </g>\n",
       "    </g>\n",
       "    <g id=\"xtick_7\">\n",
       "     <g id=\"line2d_7\">\n",
       "      <g>\n",
       "       <use style=\"stroke:#000000;stroke-width:0.8;\" x=\"278.446927\" xlink:href=\"#mf017e48501\" y=\"133.396364\"/>\n",
       "      </g>\n",
       "     </g>\n",
       "     <g id=\"text_7\">\n",
       "      <!-- 120 -->\n",
       "      <g transform=\"translate(268.903177 147.994801)scale(0.1 -0.1)\">\n",
       "       <use xlink:href=\"#DejaVuSans-49\"/>\n",
       "       <use x=\"63.623047\" xlink:href=\"#DejaVuSans-50\"/>\n",
       "       <use x=\"127.246094\" xlink:href=\"#DejaVuSans-48\"/>\n",
       "      </g>\n",
       "     </g>\n",
       "    </g>\n",
       "    <g id=\"xtick_8\">\n",
       "     <g id=\"line2d_8\">\n",
       "      <g>\n",
       "       <use style=\"stroke:#000000;stroke-width:0.8;\" x=\"315.854749\" xlink:href=\"#mf017e48501\" y=\"133.396364\"/>\n",
       "      </g>\n",
       "     </g>\n",
       "     <g id=\"text_8\">\n",
       "      <!-- 140 -->\n",
       "      <g transform=\"translate(306.310999 147.994801)scale(0.1 -0.1)\">\n",
       "       <use xlink:href=\"#DejaVuSans-49\"/>\n",
       "       <use x=\"63.623047\" xlink:href=\"#DejaVuSans-52\"/>\n",
       "       <use x=\"127.246094\" xlink:href=\"#DejaVuSans-48\"/>\n",
       "      </g>\n",
       "     </g>\n",
       "    </g>\n",
       "    <g id=\"xtick_9\">\n",
       "     <g id=\"line2d_9\">\n",
       "      <g>\n",
       "       <use style=\"stroke:#000000;stroke-width:0.8;\" x=\"353.26257\" xlink:href=\"#mf017e48501\" y=\"133.396364\"/>\n",
       "      </g>\n",
       "     </g>\n",
       "     <g id=\"text_9\">\n",
       "      <!-- 160 -->\n",
       "      <g transform=\"translate(343.71882 147.994801)scale(0.1 -0.1)\">\n",
       "       <use xlink:href=\"#DejaVuSans-49\"/>\n",
       "       <use x=\"63.623047\" xlink:href=\"#DejaVuSans-54\"/>\n",
       "       <use x=\"127.246094\" xlink:href=\"#DejaVuSans-48\"/>\n",
       "      </g>\n",
       "     </g>\n",
       "    </g>\n",
       "    <g id=\"text_10\">\n",
       "     <!-- Scans - 0-based -->\n",
       "     <defs>\n",
       "      <path d=\"M 53.515625 70.515625  L 53.515625 60.890625  Q 47.90625 63.578125 42.921875 64.890625  Q 37.9375 66.21875 33.296875 66.21875  Q 25.25 66.21875 20.875 63.09375  Q 16.5 59.96875 16.5 54.203125  Q 16.5 49.359375 19.40625 46.890625  Q 22.3125 44.4375 30.421875 42.921875  L 36.375 41.703125  Q 47.40625 39.59375 52.65625 34.296875  Q 57.90625 29 57.90625 20.125  Q 57.90625 9.515625 50.796875 4.046875  Q 43.703125 -1.421875 29.984375 -1.421875  Q 24.8125 -1.421875 18.96875 -0.25  Q 13.140625 0.921875 6.890625 3.21875  L 6.890625 13.375  Q 12.890625 10.015625 18.65625 8.296875  Q 24.421875 6.59375 29.984375 6.59375  Q 38.421875 6.59375 43.015625 9.90625  Q 47.609375 13.234375 47.609375 19.390625  Q 47.609375 24.75 44.3125 27.78125  Q 41.015625 30.8125 33.5 32.328125  L 27.484375 33.5  Q 16.453125 35.6875 11.515625 40.375  Q 6.59375 45.0625 6.59375 53.421875  Q 6.59375 63.09375 13.40625 68.65625  Q 20.21875 74.21875 32.171875 74.21875  Q 37.3125 74.21875 42.625 73.28125  Q 47.953125 72.359375 53.515625 70.515625  z \" id=\"DejaVuSans-83\"/>\n",
       "      <path d=\"M 48.78125 52.59375  L 48.78125 44.1875  Q 44.96875 46.296875 41.140625 47.34375  Q 37.3125 48.390625 33.40625 48.390625  Q 24.65625 48.390625 19.8125 42.84375  Q 14.984375 37.3125 14.984375 27.296875  Q 14.984375 17.28125 19.8125 11.734375  Q 24.65625 6.203125 33.40625 6.203125  Q 37.3125 6.203125 41.140625 7.25  Q 44.96875 8.296875 48.78125 10.40625  L 48.78125 2.09375  Q 45.015625 0.34375 40.984375 -0.53125  Q 36.96875 -1.421875 32.421875 -1.421875  Q 20.0625 -1.421875 12.78125 6.34375  Q 5.515625 14.109375 5.515625 27.296875  Q 5.515625 40.671875 12.859375 48.328125  Q 20.21875 56 33.015625 56  Q 37.15625 56 41.109375 55.140625  Q 45.0625 54.296875 48.78125 52.59375  z \" id=\"DejaVuSans-99\"/>\n",
       "      <path d=\"M 34.28125 27.484375  Q 23.390625 27.484375 19.1875 25  Q 14.984375 22.515625 14.984375 16.5  Q 14.984375 11.71875 18.140625 8.90625  Q 21.296875 6.109375 26.703125 6.109375  Q 34.1875 6.109375 38.703125 11.40625  Q 43.21875 16.703125 43.21875 25.484375  L 43.21875 27.484375  z M 52.203125 31.203125  L 52.203125 0  L 43.21875 0  L 43.21875 8.296875  Q 40.140625 3.328125 35.546875 0.953125  Q 30.953125 -1.421875 24.3125 -1.421875  Q 15.921875 -1.421875 10.953125 3.296875  Q 6 8.015625 6 15.921875  Q 6 25.140625 12.171875 29.828125  Q 18.359375 34.515625 30.609375 34.515625  L 43.21875 34.515625  L 43.21875 35.40625  Q 43.21875 41.609375 39.140625 45  Q 35.0625 48.390625 27.6875 48.390625  Q 23 48.390625 18.546875 47.265625  Q 14.109375 46.140625 10.015625 43.890625  L 10.015625 52.203125  Q 14.9375 54.109375 19.578125 55.046875  Q 24.21875 56 28.609375 56  Q 40.484375 56 46.34375 49.84375  Q 52.203125 43.703125 52.203125 31.203125  z \" id=\"DejaVuSans-97\"/>\n",
       "      <path d=\"M 54.890625 33.015625  L 54.890625 0  L 45.90625 0  L 45.90625 32.71875  Q 45.90625 40.484375 42.875 44.328125  Q 39.84375 48.1875 33.796875 48.1875  Q 26.515625 48.1875 22.3125 43.546875  Q 18.109375 38.921875 18.109375 30.90625  L 18.109375 0  L 9.078125 0  L 9.078125 54.6875  L 18.109375 54.6875  L 18.109375 46.1875  Q 21.34375 51.125 25.703125 53.5625  Q 30.078125 56 35.796875 56  Q 45.21875 56 50.046875 50.171875  Q 54.890625 44.34375 54.890625 33.015625  z \" id=\"DejaVuSans-110\"/>\n",
       "      <path d=\"M 44.28125 53.078125  L 44.28125 44.578125  Q 40.484375 46.53125 36.375 47.5  Q 32.28125 48.484375 27.875 48.484375  Q 21.1875 48.484375 17.84375 46.4375  Q 14.5 44.390625 14.5 40.28125  Q 14.5 37.15625 16.890625 35.375  Q 19.28125 33.59375 26.515625 31.984375  L 29.59375 31.296875  Q 39.15625 29.25 43.1875 25.515625  Q 47.21875 21.78125 47.21875 15.09375  Q 47.21875 7.46875 41.1875 3.015625  Q 35.15625 -1.421875 24.609375 -1.421875  Q 20.21875 -1.421875 15.453125 -0.5625  Q 10.6875 0.296875 5.421875 2  L 5.421875 11.28125  Q 10.40625 8.6875 15.234375 7.390625  Q 20.0625 6.109375 24.8125 6.109375  Q 31.15625 6.109375 34.5625 8.28125  Q 37.984375 10.453125 37.984375 14.40625  Q 37.984375 18.0625 35.515625 20.015625  Q 33.0625 21.96875 24.703125 23.78125  L 21.578125 24.515625  Q 13.234375 26.265625 9.515625 29.90625  Q 5.8125 33.546875 5.8125 39.890625  Q 5.8125 47.609375 11.28125 51.796875  Q 16.75 56 26.8125 56  Q 31.78125 56 36.171875 55.265625  Q 40.578125 54.546875 44.28125 53.078125  z \" id=\"DejaVuSans-115\"/>\n",
       "      <path id=\"DejaVuSans-32\"/>\n",
       "      <path d=\"M 4.890625 31.390625  L 31.203125 31.390625  L 31.203125 23.390625  L 4.890625 23.390625  z \" id=\"DejaVuSans-45\"/>\n",
       "      <path d=\"M 48.6875 27.296875  Q 48.6875 37.203125 44.609375 42.84375  Q 40.53125 48.484375 33.40625 48.484375  Q 26.265625 48.484375 22.1875 42.84375  Q 18.109375 37.203125 18.109375 27.296875  Q 18.109375 17.390625 22.1875 11.75  Q 26.265625 6.109375 33.40625 6.109375  Q 40.53125 6.109375 44.609375 11.75  Q 48.6875 17.390625 48.6875 27.296875  z M 18.109375 46.390625  Q 20.953125 51.265625 25.265625 53.625  Q 29.59375 56 35.59375 56  Q 45.5625 56 51.78125 48.09375  Q 58.015625 40.1875 58.015625 27.296875  Q 58.015625 14.40625 51.78125 6.484375  Q 45.5625 -1.421875 35.59375 -1.421875  Q 29.59375 -1.421875 25.265625 0.953125  Q 20.953125 3.328125 18.109375 8.203125  L 18.109375 0  L 9.078125 0  L 9.078125 75.984375  L 18.109375 75.984375  z \" id=\"DejaVuSans-98\"/>\n",
       "      <path d=\"M 56.203125 29.59375  L 56.203125 25.203125  L 14.890625 25.203125  Q 15.484375 15.921875 20.484375 11.0625  Q 25.484375 6.203125 34.421875 6.203125  Q 39.59375 6.203125 44.453125 7.46875  Q 49.3125 8.734375 54.109375 11.28125  L 54.109375 2.78125  Q 49.265625 0.734375 44.1875 -0.34375  Q 39.109375 -1.421875 33.890625 -1.421875  Q 20.796875 -1.421875 13.15625 6.1875  Q 5.515625 13.8125 5.515625 26.8125  Q 5.515625 40.234375 12.765625 48.109375  Q 20.015625 56 32.328125 56  Q 43.359375 56 49.78125 48.890625  Q 56.203125 41.796875 56.203125 29.59375  z M 47.21875 32.234375  Q 47.125 39.59375 43.09375 43.984375  Q 39.0625 48.390625 32.421875 48.390625  Q 24.90625 48.390625 20.390625 44.140625  Q 15.875 39.890625 15.1875 32.171875  z \" id=\"DejaVuSans-101\"/>\n",
       "      <path d=\"M 45.40625 46.390625  L 45.40625 75.984375  L 54.390625 75.984375  L 54.390625 0  L 45.40625 0  L 45.40625 8.203125  Q 42.578125 3.328125 38.25 0.953125  Q 33.9375 -1.421875 27.875 -1.421875  Q 17.96875 -1.421875 11.734375 6.484375  Q 5.515625 14.40625 5.515625 27.296875  Q 5.515625 40.1875 11.734375 48.09375  Q 17.96875 56 27.875 56  Q 33.9375 56 38.25 53.625  Q 42.578125 51.265625 45.40625 46.390625  z M 14.796875 27.296875  Q 14.796875 17.390625 18.875 11.75  Q 22.953125 6.109375 30.078125 6.109375  Q 37.203125 6.109375 41.296875 11.75  Q 45.40625 17.390625 45.40625 27.296875  Q 45.40625 37.203125 41.296875 42.84375  Q 37.203125 48.484375 30.078125 48.484375  Q 22.953125 48.484375 18.875 42.84375  Q 14.796875 37.203125 14.796875 27.296875  z \" id=\"DejaVuSans-100\"/>\n",
       "     </defs>\n",
       "     <g transform=\"translate(181.578125 161.672926)scale(0.1 -0.1)\">\n",
       "      <use xlink:href=\"#DejaVuSans-83\"/>\n",
       "      <use x=\"63.476562\" xlink:href=\"#DejaVuSans-99\"/>\n",
       "      <use x=\"118.457031\" xlink:href=\"#DejaVuSans-97\"/>\n",
       "      <use x=\"179.736328\" xlink:href=\"#DejaVuSans-110\"/>\n",
       "      <use x=\"243.115234\" xlink:href=\"#DejaVuSans-115\"/>\n",
       "      <use x=\"295.214844\" xlink:href=\"#DejaVuSans-32\"/>\n",
       "      <use x=\"327.001953\" xlink:href=\"#DejaVuSans-45\"/>\n",
       "      <use x=\"363.085938\" xlink:href=\"#DejaVuSans-32\"/>\n",
       "      <use x=\"394.873047\" xlink:href=\"#DejaVuSans-48\"/>\n",
       "      <use x=\"458.496094\" xlink:href=\"#DejaVuSans-45\"/>\n",
       "      <use x=\"494.580078\" xlink:href=\"#DejaVuSans-98\"/>\n",
       "      <use x=\"558.056641\" xlink:href=\"#DejaVuSans-97\"/>\n",
       "      <use x=\"619.335938\" xlink:href=\"#DejaVuSans-115\"/>\n",
       "      <use x=\"671.435547\" xlink:href=\"#DejaVuSans-101\"/>\n",
       "      <use x=\"732.958984\" xlink:href=\"#DejaVuSans-100\"/>\n",
       "     </g>\n",
       "    </g>\n",
       "   </g>\n",
       "   <g id=\"matplotlib.axis_2\">\n",
       "    <g id=\"ytick_1\">\n",
       "     <g id=\"line2d_10\">\n",
       "      <defs>\n",
       "       <path d=\"M 0 0  L -3.5 0  \" id=\"m7c8d204022\" style=\"stroke:#000000;stroke-width:0.8;\"/>\n",
       "      </defs>\n",
       "      <g>\n",
       "       <use style=\"stroke:#000000;stroke-width:0.8;\" x=\"54\" xlink:href=\"#m7c8d204022\" y=\"116.483756\"/>\n",
       "      </g>\n",
       "     </g>\n",
       "     <g id=\"text_11\">\n",
       "      <!-- −2 -->\n",
       "      <defs>\n",
       "       <path d=\"M 10.59375 35.5  L 73.1875 35.5  L 73.1875 27.203125  L 10.59375 27.203125  z \" id=\"DejaVuSans-8722\"/>\n",
       "      </defs>\n",
       "      <g transform=\"translate(32.257812 120.282974)scale(0.1 -0.1)\">\n",
       "       <use xlink:href=\"#DejaVuSans-8722\"/>\n",
       "       <use x=\"83.789062\" xlink:href=\"#DejaVuSans-50\"/>\n",
       "      </g>\n",
       "     </g>\n",
       "    </g>\n",
       "    <g id=\"ytick_2\">\n",
       "     <g id=\"line2d_11\">\n",
       "      <g>\n",
       "       <use style=\"stroke:#000000;stroke-width:0.8;\" x=\"54\" xlink:href=\"#m7c8d204022\" y=\"79.638445\"/>\n",
       "      </g>\n",
       "     </g>\n",
       "     <g id=\"text_12\">\n",
       "      <!-- 0 -->\n",
       "      <g transform=\"translate(40.6375 83.437664)scale(0.1 -0.1)\">\n",
       "       <use xlink:href=\"#DejaVuSans-48\"/>\n",
       "      </g>\n",
       "     </g>\n",
       "    </g>\n",
       "    <g id=\"ytick_3\">\n",
       "     <g id=\"line2d_12\">\n",
       "      <g>\n",
       "       <use style=\"stroke:#000000;stroke-width:0.8;\" x=\"54\" xlink:href=\"#m7c8d204022\" y=\"42.793134\"/>\n",
       "      </g>\n",
       "     </g>\n",
       "     <g id=\"text_13\">\n",
       "      <!-- 2 -->\n",
       "      <g transform=\"translate(40.6375 46.592353)scale(0.1 -0.1)\">\n",
       "       <use xlink:href=\"#DejaVuSans-50\"/>\n",
       "      </g>\n",
       "     </g>\n",
       "    </g>\n",
       "    <g id=\"text_14\">\n",
       "     <!-- Intensity -->\n",
       "     <defs>\n",
       "      <path d=\"M 9.8125 72.90625  L 19.671875 72.90625  L 19.671875 0  L 9.8125 0  z \" id=\"DejaVuSans-73\"/>\n",
       "      <path d=\"M 18.3125 70.21875  L 18.3125 54.6875  L 36.8125 54.6875  L 36.8125 47.703125  L 18.3125 47.703125  L 18.3125 18.015625  Q 18.3125 11.328125 20.140625 9.421875  Q 21.96875 7.515625 27.59375 7.515625  L 36.8125 7.515625  L 36.8125 0  L 27.59375 0  Q 17.1875 0 13.234375 3.875  Q 9.28125 7.765625 9.28125 18.015625  L 9.28125 47.703125  L 2.6875 47.703125  L 2.6875 54.6875  L 9.28125 54.6875  L 9.28125 70.21875  z \" id=\"DejaVuSans-116\"/>\n",
       "      <path d=\"M 9.421875 54.6875  L 18.40625 54.6875  L 18.40625 0  L 9.421875 0  z M 9.421875 75.984375  L 18.40625 75.984375  L 18.40625 64.59375  L 9.421875 64.59375  z \" id=\"DejaVuSans-105\"/>\n",
       "      <path d=\"M 32.171875 -5.078125  Q 28.375 -14.84375 24.75 -17.8125  Q 21.140625 -20.796875 15.09375 -20.796875  L 7.90625 -20.796875  L 7.90625 -13.28125  L 13.1875 -13.28125  Q 16.890625 -13.28125 18.9375 -11.515625  Q 21 -9.765625 23.484375 -3.21875  L 25.09375 0.875  L 2.984375 54.6875  L 12.5 54.6875  L 29.59375 11.921875  L 46.6875 54.6875  L 56.203125 54.6875  z \" id=\"DejaVuSans-121\"/>\n",
       "     </defs>\n",
       "     <g transform=\"translate(26.178125 105.740682)rotate(-90)scale(0.1 -0.1)\">\n",
       "      <use xlink:href=\"#DejaVuSans-73\"/>\n",
       "      <use x=\"29.492188\" xlink:href=\"#DejaVuSans-110\"/>\n",
       "      <use x=\"92.871094\" xlink:href=\"#DejaVuSans-116\"/>\n",
       "      <use x=\"132.080078\" xlink:href=\"#DejaVuSans-101\"/>\n",
       "      <use x=\"193.603516\" xlink:href=\"#DejaVuSans-110\"/>\n",
       "      <use x=\"256.982422\" xlink:href=\"#DejaVuSans-115\"/>\n",
       "      <use x=\"309.082031\" xlink:href=\"#DejaVuSans-105\"/>\n",
       "      <use x=\"336.865234\" xlink:href=\"#DejaVuSans-116\"/>\n",
       "      <use x=\"376.074219\" xlink:href=\"#DejaVuSans-121\"/>\n",
       "     </g>\n",
       "    </g>\n",
       "   </g>\n",
       "   <g id=\"line2d_13\">\n",
       "    <path clip-path=\"url(#p72f780123f)\" d=\"M 54 85.597807  L 55.870391 75.236287  L 57.740782 61.037611  L 59.611173 67.278183  L 61.481564 83.909102  L 63.351955 66.306215  L 65.222346 52.836175  L 67.092737 57.315089  L 68.963128 46.998187  L 70.83352 42.315643  L 74.574302 79.739441  L 76.444693 87.544673  L 78.315084 72.702437  L 82.055866 92.800043  L 83.926257 88.552715  L 85.796648 76.905967  L 87.667039 74.943615  L 89.53743 75.291952  L 91.407821 56.591763  L 93.278212 39.915269  L 95.148603 49.198191  L 97.018994 60.930571  L 98.889385 88.026325  L 100.759777 83.574813  L 102.630168 93.10011  L 104.500559 97.285981  L 106.37095 87.597514  L 108.241341 83.822457  L 110.111732 72.453249  L 111.982123 65.886158  L 113.852514 57.516571  L 115.722905 56.166017  L 117.593296 47.949947  L 119.463687 63.012047  L 121.334078 84.900339  L 123.204469 79.519031  L 125.07486 72.2804  L 126.945251 81.640837  L 128.815642 80.563663  L 130.686034 80.366751  L 132.556425 90.520482  L 134.426816 73.829998  L 136.297207 80.341683  L 138.167598 82.269046  L 140.037989 96.073521  L 141.90838 100.055965  L 143.778771 89.715241  L 145.649162 52.293977  L 147.519553 57.264825  L 149.389944 54.177568  L 151.260335 63.744836  L 153.130726 65.857478  L 155.001117 68.760012  L 156.871508 83.321482  L 158.741899 105.483911  L 160.612291 101.949338  L 162.482682 99.799439  L 164.353073 99.500813  L 166.223464 103.41217  L 168.093855 90.855666  L 169.964246 80.896843  L 171.834637 82.268749  L 173.705028 97.173174  L 175.575419 95.281909  L 177.44581 71.260822  L 179.316201 54.656171  L 181.186592 70.615927  L 183.056983 88.679541  L 184.927374 104.116357  L 186.797765 92.006035  L 188.668156 106.682832  L 190.538547 112.491214  L 192.408939 99.730904  L 194.27933 100.356024  L 196.149721 110.185329  L 198.020112 105.837043  L 199.890503 81.082404  L 201.760894 88.60329  L 203.631285 80.085858  L 205.501676 83.882267  L 207.372067 95.684977  L 209.242458 91.290183  L 211.112849 95.38644  L 212.98324 77.085545  L 214.853631 81.078197  L 216.724022 88.296587  L 218.594413 75.619463  L 220.464804 59.175891  L 222.335196 89.879661  L 224.205587 104.414663  L 226.075978 112.300811  L 227.946369 105.955677  L 229.81676 115.523701  L 231.687151 133.396364  L 233.557542 125.80835  L 235.427933 103.575768  L 237.298324 89.649338  L 239.168715 100.577836  L 241.039106 86.540616  L 242.909497 79.608262  L 244.779888 65.316946  L 246.650279 59.669064  L 248.52067 45.638272  L 250.391061 40.830571  L 252.261453 63.705377  L 254.131844 80.687568  L 256.002235 78.414781  L 257.872626 72.464403  L 259.743017 64.337569  L 261.613408 82.820894  L 263.483799 84.048737  L 265.35419 88.115501  L 267.224581 82.367417  L 269.094972 95.42624  L 270.965363 98.517834  L 272.835754 101.176859  L 274.706145 96.735556  L 276.576536 107.476885  L 278.446927 122.544279  L 280.317318 94.700782  L 282.187709 88.020255  L 284.058101 90.604412  L 285.928492 98.460312  L 287.798883 96.259745  L 291.539665 45.032671  L 293.410056 85.941886  L 295.280447 100.094231  L 297.150838 80.548944  L 299.021229 80.307036  L 300.89162 85.13798  L 302.762011 107.500811  L 304.632402 90.713529  L 306.502793 84.042077  L 308.373184 93.731477  L 310.243575 80.529902  L 312.113966 87.111916  L 313.984358 76.751909  L 315.854749 54.381692  L 317.72514 34.56  L 319.595531 65.551897  L 323.336313 110.401584  L 327.077095 62.521623  L 328.947486 60.523728  L 330.817877 47.122884  L 332.688268 60.926225  L 334.558659 68.508743  L 336.42905 82.70306  L 338.299441 75.379352  L 340.169832 74.231848  L 342.040223 73.218198  L 343.910615 52.739712  L 345.781006 35.420794  L 347.651397 40.83026  L 351.392179 73.195575  L 353.26257 73.722762  L 355.132961 71.643194  L 357.003352 77.24361  L 358.873743 61.604298  L 360.744134 66.820545  L 362.614525 57.591493  L 364.484916 82.347821  L 366.355307 81.880932  L 368.225698 77.023698  L 370.096089 75.753305  L 371.96648 84.984046  L 373.836872 88.417838  L 375.707263 76.685635  L 377.577654 69.761221  L 379.448045 75.62859  L 381.318436 70.493059  L 383.188827 63.17162  L 385.059218 54.583859  L 386.929609 72.013365  L 388.8 95.721546  L 388.8 95.721546  \" style=\"fill:none;stroke:#1f77b4;stroke-linecap:square;stroke-width:1.5;\"/>\n",
       "   </g>\n",
       "   <g id=\"patch_3\">\n",
       "    <path d=\"M 54 133.396364  L 54 34.56  \" style=\"fill:none;stroke:#000000;stroke-linecap:square;stroke-linejoin:miter;stroke-width:0.8;\"/>\n",
       "   </g>\n",
       "   <g id=\"patch_4\">\n",
       "    <path d=\"M 388.8 133.396364  L 388.8 34.56  \" style=\"fill:none;stroke:#000000;stroke-linecap:square;stroke-linejoin:miter;stroke-width:0.8;\"/>\n",
       "   </g>\n",
       "   <g id=\"patch_5\">\n",
       "    <path d=\"M 54 133.396364  L 388.8 133.396364  \" style=\"fill:none;stroke:#000000;stroke-linecap:square;stroke-linejoin:miter;stroke-width:0.8;\"/>\n",
       "   </g>\n",
       "   <g id=\"patch_6\">\n",
       "    <path d=\"M 54 34.56  L 388.8 34.56  \" style=\"fill:none;stroke:#000000;stroke-linecap:square;stroke-linejoin:miter;stroke-width:0.8;\"/>\n",
       "   </g>\n",
       "  </g>\n",
       "  <g id=\"axes_2\">\n",
       "   <g id=\"patch_7\">\n",
       "    <path d=\"M 54 252  L 388.8 252  L 388.8 153.163636  L 54 153.163636  z \" style=\"fill:#ffffff;\"/>\n",
       "   </g>\n",
       "   <g id=\"matplotlib.axis_3\">\n",
       "    <g id=\"xtick_10\">\n",
       "     <g id=\"line2d_14\">\n",
       "      <g>\n",
       "       <use style=\"stroke:#000000;stroke-width:0.8;\" x=\"54\" xlink:href=\"#mf017e48501\" y=\"252\"/>\n",
       "      </g>\n",
       "     </g>\n",
       "     <g id=\"text_15\">\n",
       "      <!-- 0 -->\n",
       "      <g transform=\"translate(50.81875 266.598437)scale(0.1 -0.1)\">\n",
       "       <use xlink:href=\"#DejaVuSans-48\"/>\n",
       "      </g>\n",
       "     </g>\n",
       "    </g>\n",
       "    <g id=\"xtick_11\">\n",
       "     <g id=\"line2d_15\">\n",
       "      <g>\n",
       "       <use style=\"stroke:#000000;stroke-width:0.8;\" x=\"91.407821\" xlink:href=\"#mf017e48501\" y=\"252\"/>\n",
       "      </g>\n",
       "     </g>\n",
       "     <g id=\"text_16\">\n",
       "      <!-- 20 -->\n",
       "      <g transform=\"translate(85.045321 266.598437)scale(0.1 -0.1)\">\n",
       "       <use xlink:href=\"#DejaVuSans-50\"/>\n",
       "       <use x=\"63.623047\" xlink:href=\"#DejaVuSans-48\"/>\n",
       "      </g>\n",
       "     </g>\n",
       "    </g>\n",
       "    <g id=\"xtick_12\">\n",
       "     <g id=\"line2d_16\">\n",
       "      <g>\n",
       "       <use style=\"stroke:#000000;stroke-width:0.8;\" x=\"128.815642\" xlink:href=\"#mf017e48501\" y=\"252\"/>\n",
       "      </g>\n",
       "     </g>\n",
       "     <g id=\"text_17\">\n",
       "      <!-- 40 -->\n",
       "      <g transform=\"translate(122.453142 266.598437)scale(0.1 -0.1)\">\n",
       "       <use xlink:href=\"#DejaVuSans-52\"/>\n",
       "       <use x=\"63.623047\" xlink:href=\"#DejaVuSans-48\"/>\n",
       "      </g>\n",
       "     </g>\n",
       "    </g>\n",
       "    <g id=\"xtick_13\">\n",
       "     <g id=\"line2d_17\">\n",
       "      <g>\n",
       "       <use style=\"stroke:#000000;stroke-width:0.8;\" x=\"166.223464\" xlink:href=\"#mf017e48501\" y=\"252\"/>\n",
       "      </g>\n",
       "     </g>\n",
       "     <g id=\"text_18\">\n",
       "      <!-- 60 -->\n",
       "      <g transform=\"translate(159.860964 266.598437)scale(0.1 -0.1)\">\n",
       "       <use xlink:href=\"#DejaVuSans-54\"/>\n",
       "       <use x=\"63.623047\" xlink:href=\"#DejaVuSans-48\"/>\n",
       "      </g>\n",
       "     </g>\n",
       "    </g>\n",
       "    <g id=\"xtick_14\">\n",
       "     <g id=\"line2d_18\">\n",
       "      <g>\n",
       "       <use style=\"stroke:#000000;stroke-width:0.8;\" x=\"203.631285\" xlink:href=\"#mf017e48501\" y=\"252\"/>\n",
       "      </g>\n",
       "     </g>\n",
       "     <g id=\"text_19\">\n",
       "      <!-- 80 -->\n",
       "      <g transform=\"translate(197.268785 266.598437)scale(0.1 -0.1)\">\n",
       "       <use xlink:href=\"#DejaVuSans-56\"/>\n",
       "       <use x=\"63.623047\" xlink:href=\"#DejaVuSans-48\"/>\n",
       "      </g>\n",
       "     </g>\n",
       "    </g>\n",
       "    <g id=\"xtick_15\">\n",
       "     <g id=\"line2d_19\">\n",
       "      <g>\n",
       "       <use style=\"stroke:#000000;stroke-width:0.8;\" x=\"241.039106\" xlink:href=\"#mf017e48501\" y=\"252\"/>\n",
       "      </g>\n",
       "     </g>\n",
       "     <g id=\"text_20\">\n",
       "      <!-- 100 -->\n",
       "      <g transform=\"translate(231.495356 266.598437)scale(0.1 -0.1)\">\n",
       "       <use xlink:href=\"#DejaVuSans-49\"/>\n",
       "       <use x=\"63.623047\" xlink:href=\"#DejaVuSans-48\"/>\n",
       "       <use x=\"127.246094\" xlink:href=\"#DejaVuSans-48\"/>\n",
       "      </g>\n",
       "     </g>\n",
       "    </g>\n",
       "    <g id=\"xtick_16\">\n",
       "     <g id=\"line2d_20\">\n",
       "      <g>\n",
       "       <use style=\"stroke:#000000;stroke-width:0.8;\" x=\"278.446927\" xlink:href=\"#mf017e48501\" y=\"252\"/>\n",
       "      </g>\n",
       "     </g>\n",
       "     <g id=\"text_21\">\n",
       "      <!-- 120 -->\n",
       "      <g transform=\"translate(268.903177 266.598437)scale(0.1 -0.1)\">\n",
       "       <use xlink:href=\"#DejaVuSans-49\"/>\n",
       "       <use x=\"63.623047\" xlink:href=\"#DejaVuSans-50\"/>\n",
       "       <use x=\"127.246094\" xlink:href=\"#DejaVuSans-48\"/>\n",
       "      </g>\n",
       "     </g>\n",
       "    </g>\n",
       "    <g id=\"xtick_17\">\n",
       "     <g id=\"line2d_21\">\n",
       "      <g>\n",
       "       <use style=\"stroke:#000000;stroke-width:0.8;\" x=\"315.854749\" xlink:href=\"#mf017e48501\" y=\"252\"/>\n",
       "      </g>\n",
       "     </g>\n",
       "     <g id=\"text_22\">\n",
       "      <!-- 140 -->\n",
       "      <g transform=\"translate(306.310999 266.598437)scale(0.1 -0.1)\">\n",
       "       <use xlink:href=\"#DejaVuSans-49\"/>\n",
       "       <use x=\"63.623047\" xlink:href=\"#DejaVuSans-52\"/>\n",
       "       <use x=\"127.246094\" xlink:href=\"#DejaVuSans-48\"/>\n",
       "      </g>\n",
       "     </g>\n",
       "    </g>\n",
       "    <g id=\"xtick_18\">\n",
       "     <g id=\"line2d_22\">\n",
       "      <g>\n",
       "       <use style=\"stroke:#000000;stroke-width:0.8;\" x=\"353.26257\" xlink:href=\"#mf017e48501\" y=\"252\"/>\n",
       "      </g>\n",
       "     </g>\n",
       "     <g id=\"text_23\">\n",
       "      <!-- 160 -->\n",
       "      <g transform=\"translate(343.71882 266.598437)scale(0.1 -0.1)\">\n",
       "       <use xlink:href=\"#DejaVuSans-49\"/>\n",
       "       <use x=\"63.623047\" xlink:href=\"#DejaVuSans-54\"/>\n",
       "       <use x=\"127.246094\" xlink:href=\"#DejaVuSans-48\"/>\n",
       "      </g>\n",
       "     </g>\n",
       "    </g>\n",
       "    <g id=\"text_24\">\n",
       "     <!-- Scans - 0-based -->\n",
       "     <g transform=\"translate(181.578125 280.276562)scale(0.1 -0.1)\">\n",
       "      <use xlink:href=\"#DejaVuSans-83\"/>\n",
       "      <use x=\"63.476562\" xlink:href=\"#DejaVuSans-99\"/>\n",
       "      <use x=\"118.457031\" xlink:href=\"#DejaVuSans-97\"/>\n",
       "      <use x=\"179.736328\" xlink:href=\"#DejaVuSans-110\"/>\n",
       "      <use x=\"243.115234\" xlink:href=\"#DejaVuSans-115\"/>\n",
       "      <use x=\"295.214844\" xlink:href=\"#DejaVuSans-32\"/>\n",
       "      <use x=\"327.001953\" xlink:href=\"#DejaVuSans-45\"/>\n",
       "      <use x=\"363.085938\" xlink:href=\"#DejaVuSans-32\"/>\n",
       "      <use x=\"394.873047\" xlink:href=\"#DejaVuSans-48\"/>\n",
       "      <use x=\"458.496094\" xlink:href=\"#DejaVuSans-45\"/>\n",
       "      <use x=\"494.580078\" xlink:href=\"#DejaVuSans-98\"/>\n",
       "      <use x=\"558.056641\" xlink:href=\"#DejaVuSans-97\"/>\n",
       "      <use x=\"619.335938\" xlink:href=\"#DejaVuSans-115\"/>\n",
       "      <use x=\"671.435547\" xlink:href=\"#DejaVuSans-101\"/>\n",
       "      <use x=\"732.958984\" xlink:href=\"#DejaVuSans-100\"/>\n",
       "     </g>\n",
       "    </g>\n",
       "   </g>\n",
       "   <g id=\"matplotlib.axis_4\">\n",
       "    <g id=\"ytick_4\">\n",
       "     <g id=\"line2d_23\">\n",
       "      <g>\n",
       "       <use style=\"stroke:#000000;stroke-width:0.8;\" x=\"54\" xlink:href=\"#m7c8d204022\" y=\"252\"/>\n",
       "      </g>\n",
       "     </g>\n",
       "     <g id=\"text_25\">\n",
       "      <!-- 0.0 -->\n",
       "      <defs>\n",
       "       <path d=\"M 10.6875 12.40625  L 21 12.40625  L 21 0  L 10.6875 0  z \" id=\"DejaVuSans-46\"/>\n",
       "      </defs>\n",
       "      <g transform=\"translate(31.096875 255.799219)scale(0.1 -0.1)\">\n",
       "       <use xlink:href=\"#DejaVuSans-48\"/>\n",
       "       <use x=\"63.623047\" xlink:href=\"#DejaVuSans-46\"/>\n",
       "       <use x=\"95.410156\" xlink:href=\"#DejaVuSans-48\"/>\n",
       "      </g>\n",
       "     </g>\n",
       "    </g>\n",
       "    <g id=\"ytick_5\">\n",
       "     <g id=\"line2d_24\">\n",
       "      <g>\n",
       "       <use style=\"stroke:#000000;stroke-width:0.8;\" x=\"54\" xlink:href=\"#m7c8d204022\" y=\"225.200423\"/>\n",
       "      </g>\n",
       "     </g>\n",
       "     <g id=\"text_26\">\n",
       "      <!-- 0.2 -->\n",
       "      <g transform=\"translate(31.096875 228.999642)scale(0.1 -0.1)\">\n",
       "       <use xlink:href=\"#DejaVuSans-48\"/>\n",
       "       <use x=\"63.623047\" xlink:href=\"#DejaVuSans-46\"/>\n",
       "       <use x=\"95.410156\" xlink:href=\"#DejaVuSans-50\"/>\n",
       "      </g>\n",
       "     </g>\n",
       "    </g>\n",
       "    <g id=\"ytick_6\">\n",
       "     <g id=\"line2d_25\">\n",
       "      <g>\n",
       "       <use style=\"stroke:#000000;stroke-width:0.8;\" x=\"54\" xlink:href=\"#m7c8d204022\" y=\"198.400846\"/>\n",
       "      </g>\n",
       "     </g>\n",
       "     <g id=\"text_27\">\n",
       "      <!-- 0.4 -->\n",
       "      <g transform=\"translate(31.096875 202.200065)scale(0.1 -0.1)\">\n",
       "       <use xlink:href=\"#DejaVuSans-48\"/>\n",
       "       <use x=\"63.623047\" xlink:href=\"#DejaVuSans-46\"/>\n",
       "       <use x=\"95.410156\" xlink:href=\"#DejaVuSans-52\"/>\n",
       "      </g>\n",
       "     </g>\n",
       "    </g>\n",
       "    <g id=\"ytick_7\">\n",
       "     <g id=\"line2d_26\">\n",
       "      <g>\n",
       "       <use style=\"stroke:#000000;stroke-width:0.8;\" x=\"54\" xlink:href=\"#m7c8d204022\" y=\"171.60127\"/>\n",
       "      </g>\n",
       "     </g>\n",
       "     <g id=\"text_28\">\n",
       "      <!-- 0.6 -->\n",
       "      <g transform=\"translate(31.096875 175.400488)scale(0.1 -0.1)\">\n",
       "       <use xlink:href=\"#DejaVuSans-48\"/>\n",
       "       <use x=\"63.623047\" xlink:href=\"#DejaVuSans-46\"/>\n",
       "       <use x=\"95.410156\" xlink:href=\"#DejaVuSans-54\"/>\n",
       "      </g>\n",
       "     </g>\n",
       "    </g>\n",
       "    <g id=\"text_29\">\n",
       "     <!-- Norm (mm) -->\n",
       "     <defs>\n",
       "      <path d=\"M 9.8125 72.90625  L 23.09375 72.90625  L 55.421875 11.921875  L 55.421875 72.90625  L 64.984375 72.90625  L 64.984375 0  L 51.703125 0  L 19.390625 60.984375  L 19.390625 0  L 9.8125 0  z \" id=\"DejaVuSans-78\"/>\n",
       "      <path d=\"M 30.609375 48.390625  Q 23.390625 48.390625 19.1875 42.75  Q 14.984375 37.109375 14.984375 27.296875  Q 14.984375 17.484375 19.15625 11.84375  Q 23.34375 6.203125 30.609375 6.203125  Q 37.796875 6.203125 41.984375 11.859375  Q 46.1875 17.53125 46.1875 27.296875  Q 46.1875 37.015625 41.984375 42.703125  Q 37.796875 48.390625 30.609375 48.390625  z M 30.609375 56  Q 42.328125 56 49.015625 48.375  Q 55.71875 40.765625 55.71875 27.296875  Q 55.71875 13.875 49.015625 6.21875  Q 42.328125 -1.421875 30.609375 -1.421875  Q 18.84375 -1.421875 12.171875 6.21875  Q 5.515625 13.875 5.515625 27.296875  Q 5.515625 40.765625 12.171875 48.375  Q 18.84375 56 30.609375 56  z \" id=\"DejaVuSans-111\"/>\n",
       "      <path d=\"M 41.109375 46.296875  Q 39.59375 47.171875 37.8125 47.578125  Q 36.03125 48 33.890625 48  Q 26.265625 48 22.1875 43.046875  Q 18.109375 38.09375 18.109375 28.8125  L 18.109375 0  L 9.078125 0  L 9.078125 54.6875  L 18.109375 54.6875  L 18.109375 46.1875  Q 20.953125 51.171875 25.484375 53.578125  Q 30.03125 56 36.53125 56  Q 37.453125 56 38.578125 55.875  Q 39.703125 55.765625 41.0625 55.515625  z \" id=\"DejaVuSans-114\"/>\n",
       "      <path d=\"M 52 44.1875  Q 55.375 50.25 60.0625 53.125  Q 64.75 56 71.09375 56  Q 79.640625 56 84.28125 50.015625  Q 88.921875 44.046875 88.921875 33.015625  L 88.921875 0  L 79.890625 0  L 79.890625 32.71875  Q 79.890625 40.578125 77.09375 44.375  Q 74.3125 48.1875 68.609375 48.1875  Q 61.625 48.1875 57.5625 43.546875  Q 53.515625 38.921875 53.515625 30.90625  L 53.515625 0  L 44.484375 0  L 44.484375 32.71875  Q 44.484375 40.625 41.703125 44.40625  Q 38.921875 48.1875 33.109375 48.1875  Q 26.21875 48.1875 22.15625 43.53125  Q 18.109375 38.875 18.109375 30.90625  L 18.109375 0  L 9.078125 0  L 9.078125 54.6875  L 18.109375 54.6875  L 18.109375 46.1875  Q 21.1875 51.21875 25.484375 53.609375  Q 29.78125 56 35.6875 56  Q 41.65625 56 45.828125 52.96875  Q 50 49.953125 52 44.1875  z \" id=\"DejaVuSans-109\"/>\n",
       "      <path d=\"M 31 75.875  Q 24.46875 64.65625 21.28125 53.65625  Q 18.109375 42.671875 18.109375 31.390625  Q 18.109375 20.125 21.3125 9.0625  Q 24.515625 -2 31 -13.1875  L 23.1875 -13.1875  Q 15.875 -1.703125 12.234375 9.375  Q 8.59375 20.453125 8.59375 31.390625  Q 8.59375 42.28125 12.203125 53.3125  Q 15.828125 64.359375 23.1875 75.875  z \" id=\"DejaVuSans-40\"/>\n",
       "      <path d=\"M 8.015625 75.875  L 15.828125 75.875  Q 23.140625 64.359375 26.78125 53.3125  Q 30.421875 42.28125 30.421875 31.390625  Q 30.421875 20.453125 26.78125 9.375  Q 23.140625 -1.703125 15.828125 -13.1875  L 8.015625 -13.1875  Q 14.5 -2 17.703125 9.0625  Q 20.90625 20.125 20.90625 31.390625  Q 20.90625 42.671875 17.703125 53.65625  Q 14.5 64.65625 8.015625 75.875  z \" id=\"DejaVuSans-41\"/>\n",
       "     </defs>\n",
       "     <g transform=\"translate(25.017187 231.451349)rotate(-90)scale(0.1 -0.1)\">\n",
       "      <use xlink:href=\"#DejaVuSans-78\"/>\n",
       "      <use x=\"74.804688\" xlink:href=\"#DejaVuSans-111\"/>\n",
       "      <use x=\"135.986328\" xlink:href=\"#DejaVuSans-114\"/>\n",
       "      <use x=\"175.349609\" xlink:href=\"#DejaVuSans-109\"/>\n",
       "      <use x=\"272.761719\" xlink:href=\"#DejaVuSans-32\"/>\n",
       "      <use x=\"304.548828\" xlink:href=\"#DejaVuSans-40\"/>\n",
       "      <use x=\"343.5625\" xlink:href=\"#DejaVuSans-109\"/>\n",
       "      <use x=\"440.974609\" xlink:href=\"#DejaVuSans-109\"/>\n",
       "      <use x=\"538.386719\" xlink:href=\"#DejaVuSans-41\"/>\n",
       "     </g>\n",
       "    </g>\n",
       "   </g>\n",
       "   <g id=\"line2d_27\">\n",
       "    <path clip-path=\"url(#pa10281cfd7)\" d=\"M 54 252  L 55.870391 249.695382  L 57.740782 241.222546  L 59.611173 247.699942  L 61.481564 243.296712  L 63.351955 220.234324  L 65.222346 206.77718  L 67.092737 237.771866  L 68.963128 241.412234  L 70.83352 240.499248  L 72.703911 241.119312  L 74.574302 235.564821  L 76.444693 238.199645  L 78.315084 235.906694  L 80.185475 230.607514  L 82.055866 238.108343  L 83.926257 241.44451  L 85.796648 246.803899  L 87.667039 214.962695  L 89.53743 237.723281  L 91.407821 237.356701  L 93.278212 234.495098  L 95.148603 239.710547  L 97.018994 241.920008  L 98.889385 214.999839  L 100.759777 204.857319  L 102.630168 229.573696  L 104.500559 229.597509  L 106.37095 238.429603  L 108.241341 236.022481  L 110.111732 213.153008  L 111.982123 215.392943  L 113.852514 234.674397  L 115.722905 229.719909  L 117.593296 235.516737  L 119.463687 235.752419  L 121.334078 240.442367  L 123.204469 238.682373  L 125.07486 243.018033  L 126.945251 232.852914  L 128.815642 231.908032  L 130.686034 234.230495  L 132.556425 218.490004  L 134.426816 235.438752  L 136.297207 218.818748  L 138.167598 242.869402  L 140.037989 233.421257  L 141.90838 232.356483  L 143.778771 245.710255  L 145.649162 236.996429  L 147.519553 238.830799  L 149.389944 229.954658  L 151.260335 213.426494  L 153.130726 233.531225  L 155.001117 235.565984  L 156.871508 237.069247  L 158.741899 230.335053  L 160.612291 238.789181  L 162.482682 241.578071  L 164.353073 247.301184  L 166.223464 239.73566  L 168.093855 239.414366  L 169.964246 207.699125  L 171.834637 229.506222  L 173.705028 213.21581  L 175.575419 210.968008  L 177.44581 206.357149  L 179.316201 220.615953  L 181.186592 233.605214  L 183.056983 213.978566  L 184.927374 240.51483  L 186.797765 241.016673  L 188.668156 225.253024  L 190.538547 237.91892  L 192.408939 242.281366  L 194.27933 245.142825  L 196.149721 239.583168  L 198.020112 244.570697  L 201.760894 234.608361  L 203.631285 236.885459  L 205.501676 235.365384  L 207.372067 221.540585  L 209.242458 186.73314  L 211.112849 224.801259  L 212.98324 234.672065  L 214.853631 243.589108  L 216.724022 223.825368  L 218.594413 164.951986  L 220.464804 208.493037  L 222.335196 173.500285  L 224.205587 185.196462  L 226.075978 153.163636  L 227.946369 197.311809  L 229.81676 232.262569  L 231.687151 194.95937  L 233.557542 226.359808  L 235.427933 227.249738  L 237.298324 232.607511  L 239.168715 234.440225  L 241.039106 223.486978  L 242.909497 217.987189  L 244.779888 227.558386  L 246.650279 203.585432  L 248.52067 240.040876  L 250.391061 218.059664  L 252.261453 234.154795  L 254.131844 230.283969  L 256.002235 225.001541  L 257.872626 242.881297  L 259.743017 236.493867  L 261.613408 242.824097  L 263.483799 239.03822  L 265.35419 190.129257  L 267.224581 196.608727  L 269.094972 222.958795  L 270.965363 225.497821  L 272.835754 231.406013  L 274.706145 242.888088  L 276.576536 225.440219  L 278.446927 236.515747  L 280.317318 240.274911  L 282.187709 231.873008  L 284.058101 243.068573  L 285.928492 236.895927  L 287.798883 214.45969  L 289.669274 208.761141  L 291.539665 216.238506  L 293.410056 191.219626  L 295.280447 209.100942  L 297.150838 223.731054  L 299.021229 236.188757  L 300.89162 224.723044  L 302.762011 214.397431  L 304.632402 217.202423  L 306.502793 242.022821  L 308.373184 202.756551  L 310.243575 223.624902  L 312.113966 213.533381  L 315.854749 183.929125  L 317.72514 164.423319  L 319.595531 230.897863  L 321.465922 240.397511  L 323.336313 216.38327  L 325.206704 236.761859  L 327.077095 231.289879  L 328.947486 204.572663  L 330.817877 209.269481  L 332.688268 178.346272  L 334.558659 221.188259  L 336.42905 183.191112  L 338.299441 164.728595  L 340.169832 227.404992  L 342.040223 233.618888  L 343.910615 236.13816  L 345.781006 213.799415  L 347.651397 230.687349  L 349.521788 231.300247  L 351.392179 221.525604  L 353.26257 241.272815  L 355.132961 233.918327  L 357.003352 177.194776  L 358.873743 234.328298  L 360.744134 224.667126  L 362.614525 231.547151  L 364.484916 224.943427  L 366.355307 234.516292  L 368.225698 221.590707  L 370.096089 235.406227  L 371.96648 242.712781  L 373.836872 239.791884  L 375.707263 233.313688  L 377.577654 233.654153  L 379.448045 239.549109  L 381.318436 242.849145  L 383.188827 242.029631  L 385.059218 222.747376  L 386.929609 241.212801  L 388.8 234.214328  L 388.8 234.214328  \" style=\"fill:none;stroke:#1f77b4;stroke-linecap:square;stroke-width:1.5;\"/>\n",
       "   </g>\n",
       "   <g id=\"patch_8\">\n",
       "    <path d=\"M 54 252  L 54 153.163636  \" style=\"fill:none;stroke:#000000;stroke-linecap:square;stroke-linejoin:miter;stroke-width:0.8;\"/>\n",
       "   </g>\n",
       "   <g id=\"patch_9\">\n",
       "    <path d=\"M 388.8 252  L 388.8 153.163636  \" style=\"fill:none;stroke:#000000;stroke-linecap:square;stroke-linejoin:miter;stroke-width:0.8;\"/>\n",
       "   </g>\n",
       "   <g id=\"patch_10\">\n",
       "    <path d=\"M 54 252  L 388.8 252  \" style=\"fill:none;stroke:#000000;stroke-linecap:square;stroke-linejoin:miter;stroke-width:0.8;\"/>\n",
       "   </g>\n",
       "   <g id=\"patch_11\">\n",
       "    <path d=\"M 54 153.163636  L 388.8 153.163636  \" style=\"fill:none;stroke:#000000;stroke-linecap:square;stroke-linejoin:miter;stroke-width:0.8;\"/>\n",
       "   </g>\n",
       "  </g>\n",
       " </g>\n",
       " <defs>\n",
       "  <clipPath id=\"p72f780123f\">\n",
       "   <rect height=\"98.836364\" width=\"334.8\" x=\"54\" y=\"34.56\"/>\n",
       "  </clipPath>\n",
       "  <clipPath id=\"pa10281cfd7\">\n",
       "   <rect height=\"98.836364\" width=\"334.8\" x=\"54\" y=\"153.163636\"/>\n",
       "  </clipPath>\n",
       " </defs>\n",
       "</svg>"
      ],
      "text/plain": [
       "<IPython.core.display.SVG object>"
      ]
     },
     "execution_count": 73,
     "metadata": {},
     "output_type": "execute_result"
    }
   ],
   "source": [
    "# Showing the artifact detection output\n",
    "from IPython.display import SVG\n",
    "SVG(filename='/output/work_preproc/_subject_id_07/art/'\n",
    "    'plot.asub-07_ses-test_task-fingerfootlips_bold_roi_mcf.svg')"
   ]
  },
  {
   "cell_type": "markdown",
   "metadata": {},
   "source": [
    "Which volumes are problematic?"
   ]
  },
  {
   "cell_type": "code",
   "execution_count": 74,
   "metadata": {},
   "outputs": [
    {
     "name": "stderr",
     "output_type": "stream",
     "text": [
      "/opt/miniconda-latest/envs/neuro/lib/python3.7/site-packages/ipykernel_launcher.py:1: UserWarning: loadtxt: Empty input file: \"/output/work_preproc/_subject_id_07/art/art.asub-07_ses-test_task-fingerfootlips_bold_roi_mcf_outliers.txt\"\n",
      "  \"\"\"Entry point for launching an IPython kernel.\n"
     ]
    },
    {
     "data": {
      "text/plain": [
       "[]"
      ]
     },
     "execution_count": 74,
     "metadata": {},
     "output_type": "execute_result"
    }
   ],
   "source": [
    "outliers = np.loadtxt('/output/work_preproc/_subject_id_07/art/'\n",
    "                      'art.asub-07_ses-test_task-fingerfootlips_bold_roi_mcf_outliers.txt')\n",
    "list(outliers.astype('int'))"
   ]
  },
  {
   "cell_type": "markdown",
   "metadata": {},
   "source": [
    "### Masks and Probability maps\n",
    "\n",
    "Let's see what all the masks and probability maps look like. For this, we will use `nilearn`'s `plot_anat` function."
   ]
  },
  {
   "cell_type": "code",
   "execution_count": 75,
   "metadata": {},
   "outputs": [],
   "source": [
    "# from nilearn import image as nli\n",
    "# from nilearn.plotting import plot_stat_map\n",
    "# %matplotlib inline\n",
    "# output = '/output/work_preproc/_subject_id_07/'"
   ]
  },
  {
   "cell_type": "markdown",
   "metadata": {},
   "source": [
    "First, let's look at the tissue probability maps."
   ]
  },
  {
   "cell_type": "code",
   "execution_count": 76,
   "metadata": {},
   "outputs": [],
   "source": [
    "# anat = output + 'gunzip_anat/sub-07_ses-test_T1w.nii'"
   ]
  },
  {
   "cell_type": "code",
   "execution_count": 77,
   "metadata": {},
   "outputs": [],
   "source": [
    "# plot_stat_map(\n",
    "#     output + 'segment/c1sub-07_ses-test_T1w.nii', title='GM prob. map',  cmap=plt.cm.magma,\n",
    "#     threshold=0.5, bg_img=anat, display_mode='z', cut_coords=range(-35, 15, 10), dim=-1);"
   ]
  },
  {
   "cell_type": "code",
   "execution_count": 78,
   "metadata": {},
   "outputs": [],
   "source": [
    "# plot_stat_map(\n",
    "#     output + 'segment/c2sub-07_ses-test_T1w.nii', title='WM prob. map', cmap=plt.cm.magma,\n",
    "#     threshold=0.5, bg_img=anat, display_mode='z', cut_coords=range(-35, 15, 10), dim=-1);"
   ]
  },
  {
   "cell_type": "code",
   "execution_count": 79,
   "metadata": {},
   "outputs": [],
   "source": [
    "# plot_stat_map(\n",
    "#     output + 'segment/c3sub-07_ses-test_T1w.nii', title='CSF prob. map', cmap=plt.cm.magma,\n",
    "#     threshold=0.5, bg_img=anat, display_mode='z', cut_coords=range(-35, 15, 10), dim=-1);"
   ]
  },
  {
   "cell_type": "markdown",
   "metadata": {},
   "source": [
    "And how does the gray matter mask look like that we used on the functional images?"
   ]
  },
  {
   "cell_type": "code",
   "execution_count": 80,
   "metadata": {},
   "outputs": [],
   "source": [
    "# plot_stat_map(\n",
    "#     output + 'mask_GM/c1sub-07_ses-test_T1w_flirt_thresh.nii', title='dilated GM Mask', cmap=plt.cm.magma,\n",
    "#     threshold=0.5, bg_img=anat, display_mode='z', cut_coords=range(-35, 15, 10), dim=-1);"
   ]
  },
  {
   "cell_type": "markdown",
   "metadata": {},
   "source": [
    "## Data output with `DataSink`\n",
    "\n",
    "The results look fine, but we don't need all those temporary files. So let's use Datasink to keep only those files that we actually need for the 1st and 2nd level analysis."
   ]
  },
  {
   "cell_type": "code",
   "execution_count": 81,
   "metadata": {},
   "outputs": [],
   "source": [
    "from nipype.interfaces.io import DataSink\n",
    "\n",
    "# Initiate the datasink node\n",
    "output_folder = 'datasink_handson'\n",
    "datasink = Node(DataSink(base_directory='/output/',\n",
    "                         container=output_folder),\n",
    "                name=\"datasink\")"
   ]
  },
  {
   "cell_type": "markdown",
   "metadata": {},
   "source": [
    "Now the next step is to specify all the output that we want to keep in our output folder `output`. Make sure to keep:\n",
    "- from the artifact detection node the outlier file as well as the outlier plot\n",
    "- from the motion correction node the motion parameters\n",
    "- from the last node, the detrended functional image"
   ]
  },
  {
   "cell_type": "code",
   "execution_count": 82,
   "metadata": {
    "solution2": "shown",
    "solution2_first": true
   },
   "outputs": [],
   "source": [
    "# Connect nodes to datasink here"
   ]
  },
  {
   "cell_type": "code",
   "execution_count": 83,
   "metadata": {
    "solution2": "shown"
   },
   "outputs": [],
   "source": [
    "preproc.connect([(art, datasink, [('outlier_files', 'preproc.@outlier_files'),\n",
    "                                  ('plot_files', 'preproc.@plot_files')]),\n",
    "                 (mcflirt, datasink, [('par_file', 'preproc.@par')]),\n",
    "                 (detrend, datasink, [('detrended_file', 'preproc.@func')]),\n",
    "                 ])"
   ]
  },
  {
   "cell_type": "markdown",
   "metadata": {},
   "source": [
    "## Run the workflow\n",
    "\n",
    "After adding the datasink folder, let's run the preprocessing workflow again."
   ]
  },
  {
   "cell_type": "code",
   "execution_count": 84,
   "metadata": {
    "scrolled": true
   },
   "outputs": [
    {
     "name": "stdout",
     "output_type": "stream",
     "text": [
      "200323-19:55:20,17 nipype.workflow INFO:\n",
      "\t Workflow work_preproc settings: ['check', 'execution', 'logging', 'monitoring']\n",
      "200323-19:55:20,132 nipype.workflow INFO:\n",
      "\t Running in parallel.\n",
      "200323-19:55:20,137 nipype.workflow INFO:\n",
      "\t [MultiProc] Running 0 tasks, and 1 jobs ready. Free memory (GB): 10.53/10.53, Free processors: 4/4.\n",
      "200323-19:55:20,274 nipype.workflow INFO:\n",
      "\t [Node] Setting-up \"work_preproc.selectfiles\" in \"/output/work_preproc/_subject_id_07/selectfiles\".\n",
      "200323-19:55:20,324 nipype.workflow INFO:\n",
      "\t [Node] Running \"selectfiles\" (\"nipype.interfaces.io.SelectFiles\")\n",
      "200323-19:55:20,375 nipype.workflow INFO:\n",
      "\t [Node] Finished \"work_preproc.selectfiles\".\n",
      "200323-19:55:22,143 nipype.workflow INFO:\n",
      "\t [Job 0] Completed (work_preproc.selectfiles).\n",
      "200323-19:55:22,152 nipype.workflow INFO:\n",
      "\t [MultiProc] Running 0 tasks, and 2 jobs ready. Free memory (GB): 10.53/10.53, Free processors: 4/4.\n",
      "200323-19:55:22,312 nipype.workflow INFO:\n",
      "\t [Job 1] Cached (work_preproc.gunzip_func).\n",
      "200323-19:55:22,328 nipype.workflow INFO:\n",
      "\t [Job 6] Cached (work_preproc.gunzip_anat).\n",
      "200323-19:55:24,243 nipype.workflow INFO:\n",
      "\t [Job 2] Cached (work_preproc.extract).\n",
      "200323-19:55:24,267 nipype.workflow INFO:\n",
      "\t [Job 7] Cached (work_preproc.segment).\n",
      "200323-19:55:26,151 nipype.workflow INFO:\n",
      "\t [MultiProc] Running 0 tasks, and 3 jobs ready. Free memory (GB): 10.53/10.53, Free processors: 4/4.\n",
      "200323-19:55:26,253 nipype.workflow INFO:\n",
      "\t [Job 3] Cached (work_preproc.slicetime).\n",
      "200323-19:55:26,287 nipype.workflow INFO:\n",
      "\t [Job 8] Cached (work_preproc.resample).\n",
      "200323-19:55:26,316 nipype.workflow INFO:\n",
      "\t [Job 10] Cached (work_preproc.threshold_WM).\n",
      "200323-19:55:28,154 nipype.workflow INFO:\n",
      "\t [MultiProc] Running 0 tasks, and 2 jobs ready. Free memory (GB): 10.53/10.53, Free processors: 4/4.\n",
      "200323-19:55:28,257 nipype.workflow INFO:\n",
      "\t [Job 4] Cached (work_preproc.mcflirt).\n",
      "200323-19:55:28,278 nipype.workflow INFO:\n",
      "\t [Job 9] Cached (work_preproc.mask_GM).\n",
      "200323-19:55:30,273 nipype.workflow INFO:\n",
      "\t [Node] Outdated cache found for \"work_preproc.art\".\n",
      "200323-19:55:30,294 nipype.workflow INFO:\n",
      "\t [Node] Setting-up \"work_preproc.art\" in \"/output/work_preproc/_subject_id_07/art\".\n",
      "200323-19:55:30,320 nipype.workflow INFO:\n",
      "\t [Node] Outdated cache found for \"work_preproc.art\".\n",
      "200323-19:55:30,380 nipype.workflow INFO:\n",
      "\t [Job 11] Cached (work_preproc.coreg).\n",
      "200323-19:55:30,417 nipype.workflow INFO:\n",
      "\t [Node] Running \"art\" (\"nipype.algorithms.rapidart.ArtifactDetect\")\n",
      "200323-19:55:31,997 nipype.workflow INFO:\n",
      "\t [Node] Finished \"work_preproc.art\".\n",
      "200323-19:55:32,162 nipype.workflow INFO:\n",
      "\t [Job 5] Completed (work_preproc.art).\n",
      "200323-19:55:32,167 nipype.workflow INFO:\n",
      "\t [MultiProc] Running 0 tasks, and 1 jobs ready. Free memory (GB): 10.53/10.53, Free processors: 4/4.\n",
      "200323-19:55:32,320 nipype.workflow INFO:\n",
      "\t [Job 12] Cached (work_preproc.applywarp).\n",
      "200323-19:55:34,167 nipype.workflow INFO:\n",
      "\t [MultiProc] Running 0 tasks, and 2 jobs ready. Free memory (GB): 10.53/10.53, Free processors: 4/4.\n",
      "200323-19:55:34,295 nipype.workflow INFO:\n",
      "\t [Job 13] Cached (work_preproc.susan.mask).\n",
      "200323-19:55:34,339 nipype.workflow INFO:\n",
      "\t [Job 15] Cached (work_preproc.susan.median).\n",
      "200323-19:55:36,170 nipype.workflow INFO:\n",
      "\t [MultiProc] Running 0 tasks, and 1 jobs ready. Free memory (GB): 10.53/10.53, Free processors: 4/4.\n",
      "200323-19:55:36,274 nipype.workflow INFO:\n",
      "\t [Job 14] Cached (work_preproc.susan.meanfunc2).\n",
      "200323-19:55:38,305 nipype.workflow INFO:\n",
      "\t [Job 16] Cached (work_preproc.susan.merge).\n",
      "200323-19:55:40,297 nipype.workflow INFO:\n",
      "\t [Job 17] Cached (work_preproc.susan.multi_inputs).\n",
      "200323-19:55:42,330 nipype.workflow INFO:\n",
      "\t [Job 18] Cached (work_preproc.susan.smooth).\n",
      "200323-19:55:44,304 nipype.workflow INFO:\n",
      "\t [Job 19] Cached (work_preproc.mask_func).\n",
      "200323-19:55:46,316 nipype.workflow INFO:\n",
      "\t [Node] Outdated cache found for \"work_preproc.detrend\".\n",
      "200323-19:55:46,334 nipype.workflow INFO:\n",
      "\t [Node] Setting-up \"work_preproc.detrend\" in \"/output/work_preproc/_subject_id_07/detrend\".\n",
      "200323-19:55:46,348 nipype.workflow INFO:\n",
      "\t [Node] Outdated cache found for \"work_preproc.detrend\".\n",
      "200323-19:55:46,420 nipype.workflow INFO:\n",
      "\t [Node] Running \"detrend\" (\"nipype.algorithms.confounds.TSNR\")\n",
      "200323-19:55:48,154 nipype.workflow INFO:\n",
      "\t [MultiProc] Running 1 tasks, and 0 jobs ready. Free memory (GB): 10.33/10.53, Free processors: 3/4.\n",
      "                     Currently running:\n",
      "                       * work_preproc.detrend\n",
      "200323-19:55:52,408 nipype.workflow INFO:\n",
      "\t [Node] Finished \"work_preproc.detrend\".\n",
      "200323-19:55:54,160 nipype.workflow INFO:\n",
      "\t [Job 20] Completed (work_preproc.detrend).\n",
      "200323-19:55:54,164 nipype.workflow INFO:\n",
      "\t [MultiProc] Running 0 tasks, and 1 jobs ready. Free memory (GB): 10.53/10.53, Free processors: 4/4.\n",
      "200323-19:55:54,257 nipype.workflow INFO:\n",
      "\t [Node] Setting-up \"work_preproc.datasink\" in \"/output/work_preproc/_subject_id_07/datasink\".\n",
      "200323-19:55:54,365 nipype.workflow INFO:\n",
      "\t [Node] Running \"datasink\" (\"nipype.interfaces.io.DataSink\")\n",
      "200323-19:55:54,474 nipype.workflow INFO:\n",
      "\t [Node] Finished \"work_preproc.datasink\".\n",
      "200323-19:55:56,163 nipype.workflow INFO:\n",
      "\t [Job 21] Completed (work_preproc.datasink).\n",
      "200323-19:55:56,168 nipype.workflow INFO:\n",
      "\t [MultiProc] Running 0 tasks, and 0 jobs ready. Free memory (GB): 10.53/10.53, Free processors: 4/4.\n"
     ]
    },
    {
     "data": {
      "text/plain": [
       "<networkx.classes.digraph.DiGraph at 0x7f26bc060610>"
      ]
     },
     "execution_count": 84,
     "metadata": {},
     "output_type": "execute_result"
    }
   ],
   "source": [
    "preproc.run('MultiProc', plugin_args={'n_procs': 4})"
   ]
  },
  {
   "cell_type": "markdown",
   "metadata": {},
   "source": [
    "Let's look now at the output of this datasink folder."
   ]
  },
  {
   "cell_type": "code",
   "execution_count": 85,
   "metadata": {},
   "outputs": [
    {
     "name": "stdout",
     "output_type": "stream",
     "text": [
      "\u001b[01;34m/output/datasink_handson\u001b[00m\r\n",
      "└── \u001b[01;34mpreproc\u001b[00m\r\n",
      "    └── \u001b[01;34m_subject_id_07\u001b[00m\r\n",
      "        ├── asub-07_ses-test_task-fingerfootlips_bold_roi_mcf.nii.gz.par\r\n",
      "        ├── \u001b[01;31mdetrend.nii.gz\u001b[00m\r\n",
      "        └── \u001b[01;35mplot.asub-07_ses-test_task-fingerfootlips_bold_roi_mcf.svg\u001b[00m\r\n",
      "\r\n",
      "2 directories, 3 files\r\n"
     ]
    }
   ],
   "source": [
    "!tree /output/datasink_handson -I '*js|*json|*pklz|_report|*dot|*html|*txt|*.m'"
   ]
  },
  {
   "cell_type": "markdown",
   "metadata": {},
   "source": [
    "Much better! But we're still not there yet. There are many unnecessary file specifiers that we can get rid off. To do so, we can use `DataSink`'s `substitutions` parameter. For this, we create a list of tuples: on the left, we specify the string that we want to replace and on the right, with what we want to replace it with."
   ]
  }
 ],
 "metadata": {
  "anaconda-cloud": {},
  "kernelspec": {
   "display_name": "Python 3",
   "language": "python",
   "name": "python3"
  },
  "language_info": {
   "codemirror_mode": {
    "name": "ipython",
    "version": 3
   },
   "file_extension": ".py",
   "mimetype": "text/x-python",
   "name": "python",
   "nbconvert_exporter": "python",
   "pygments_lexer": "ipython3",
   "version": "3.7.6"
  }
 },
 "nbformat": 4,
 "nbformat_minor": 2
}
